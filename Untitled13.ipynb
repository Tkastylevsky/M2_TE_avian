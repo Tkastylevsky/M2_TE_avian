{
 "cells": [
  {
   "cell_type": "code",
   "execution_count": 1,
   "metadata": {},
   "outputs": [],
   "source": []
  },
  {
   "cell_type": "code",
   "execution_count": 2,
   "metadata": {},
   "outputs": [
    {
     "data": {
      "text/plain": [
       "['/home/tkastylevsky/code',\n",
       " '/home/tkastylevsky/programs/Anaconda3/lib/python37.zip',\n",
       " '/home/tkastylevsky/programs/Anaconda3/lib/python3.7',\n",
       " '/home/tkastylevsky/programs/Anaconda3/lib/python3.7/lib-dynload',\n",
       " '',\n",
       " '/home/tkastylevsky/programs/Anaconda3/lib/python3.7/site-packages',\n",
       " '/home/tkastylevsky/programs/Anaconda3/lib/python3.7/site-packages/IPython/extensions',\n",
       " '/home/tkastylevsky/.ipython']"
      ]
     },
     "execution_count": 2,
     "metadata": {},
     "output_type": "execute_result"
    }
   ],
   "source": []
  },
  {
   "cell_type": "code",
   "execution_count": null,
   "metadata": {},
   "outputs": [],
   "source": []
  }
 ],
 "metadata": {
  "kernelspec": {
   "display_name": "Python 3",
   "language": "python",
   "name": "python3"
  },
  "language_info": {
   "codemirror_mode": {
    "name": "ipython",
    "version": 3
   },
   "file_extension": ".py",
   "mimetype": "text/x-python",
   "name": "python",
   "nbconvert_exporter": "python",
   "pygments_lexer": "ipython3",
   "version": "3.7.4"
  }
 },
 "nbformat": 4,
 "nbformat_minor": 2
}
