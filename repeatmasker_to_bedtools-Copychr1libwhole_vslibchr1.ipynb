{
 "cells": [
  {
   "cell_type": "code",
   "execution_count": 1,
   "metadata": {},
   "outputs": [],
   "source": [
    "import pandas as pa\n",
    "import numpy as np\n",
    "import itertools\n",
    "import csv\n"
   ]
  },
  {
   "cell_type": "markdown",
   "metadata": {},
   "source": [
    "En tete a lire a chaque fois : les ID ne sont pas uniques, ça vient peut_etre des etoilllllllles je vais voir ce que je peux faire au pire j'en recrée.\n",
    "\n",
    "edit : \n",
    "non, ça vient du fait que les TE sont morcelés, et du coup pour le meme te on garde la meme ID meme si les séquences sont discontinues. du coup je fais quoi je sais pas.\n",
    "\n",
    "edit lundi 27 : \n",
    "j'ai recrée de nouvelle ID, ça devrait suffire pour faire fonctionner tout ça. \n",
    "(ça fonctionne effectivement, mais en l'état l'annotation n'est pas de bonne qualité. "
   ]
  },
  {
   "cell_type": "code",
   "execution_count": 3,
   "metadata": {},
   "outputs": [],
   "source": [
    "names_col_data = ['SW_score',\"perc_div\",\"perc_del\",\"perc_ins\", \"query_seq\", \"pos_query_begin\", \"pos_query_end\", \"pos_query_left\",\"strand\", \"matching_repeat\", \"repeat_class_family\", \"pos_in_repeat_begin\", \"pos_in_repeat_end\", \"pos_in_repeat_left\", \"TE_A_ID\",\"star\"]\n",
    "data = pa.read_csv(\"/home/tkastylevsky/FASTA_files/repeatmasker/gallus_gallus_proper/gallus_chr1_lib_whole_genome/chr1.fa.out\",header = None, skiprows = 2, sep = '\\s+', names = names_col_data)\n",
    "data['strand'] = data['strand'].replace('C','-')\n",
    "data.insert(1,\"A_ID\",list(range(1,len(data)+1)))\n",
    "\n",
    "data_split = data.repeat_class_family.str.split('/',expand = True)\n",
    "data = data.join(data_split)\n",
    "data.columns = ['SW_score','A_ID',\"perc_div\",\"perc_del\",\"perc_ins\", \"query_seq\", \"pos_query_begin\", \"pos_query_end\", \"pos_query_left\",\"strand\", \"matching_repeat\", \"repeat_class_family\", \"pos_in_repeat_begin\", \"pos_in_repeat_end\", \"pos_in_repeat_left\", \"TE_A_ID\",\"star\",\"repeat_class\",\"repeat_family\"]\n",
    "data = data.drop('repeat_class_family', axis = 1)\n"
   ]
  },
  {
   "cell_type": "code",
   "execution_count": 4,
   "metadata": {},
   "outputs": [],
   "source": [
    "data_intersect = data\n",
    "data_intersect = data_intersect.drop([\"SW_score\",\"perc_del\",\"perc_ins\", \"pos_query_left\", \"pos_in_repeat_begin\", \"pos_in_repeat_end\", \"pos_in_repeat_left\", \"star\"], axis = 1 )\n",
    "data_intersect.insert(1, \"feature\", \"Similarity\")\n",
    "data_intersect.insert(1, \"source\", \"RepeatMasker\")\n",
    "data_intersect.insert(1, \"phase\", \".\")\n",
    "\n",
    "data_intersect = data_intersect[['query_seq','source','feature','pos_query_begin','pos_query_end', 'perc_div', 'strand','phase', 'A_ID']]\n",
    "data_intersect.to_csv('/home/tkastylevsky/FASTA_files/repeatmasker/gallus_gallus_proper/gallus_chr1_lib_whole_genome/chr1.fa.out_1.gff', sep = '\\t', header = False, index = False)"
   ]
  },
  {
   "cell_type": "code",
   "execution_count": 5,
   "metadata": {},
   "outputs": [
    {
     "name": "stdout",
     "output_type": "stream",
     "text": [
      "12350\n"
     ]
    }
   ],
   "source": [
    "#nombre de hit qui se superposent à un meilleur hit au sein d'un meme out. \n",
    "print(data.star.count())"
   ]
  },
  {
   "cell_type": "code",
   "execution_count": 7,
   "metadata": {},
   "outputs": [],
   "source": [
    "#ici, la ref c'est mon annotation précédente\n",
    "\n",
    "\n",
    "\n",
    "names_col_ref = ['SW_score',\"perc_div\",\"perc_del\",\"perc_ins\", \"query_seq\", \"pos_query_begin\", \"pos_query_end\", \"pos_query_left\",\"strand\", \"matching_repeat\", \"repeat_class_family\", \"pos_in_repeat_begin\", \"pos_in_repeat_end\", \"pos_in_repeat_left\", \"TE_B_ID\",\"star\"]\n",
    "ref = pa.read_csv(\"/home/tkastylevsky/FASTA_files/repeatmasker/gallus_gallus_proper/gallus_proper_chr1/chr1.fa.preTueJan281534092020.RMoutput/chr1.fa.out\",header = None, skiprows = 2, sep = '\\s+', names = names_col_ref)\n",
    "ref['strand'] = ref['strand'].replace('C','-')\n",
    "ref_chr1 = ref[ref['query_seq']=='chr1']\n",
    "ref = ref_chr1\n",
    "ref.insert(1,\"B_ID\",list(range(1,len(ref)+1)))\n",
    "ref_split = ref.repeat_class_family.str.split('/',expand = True)\n",
    "ref = ref.join(ref_split)\n",
    "ref.columns = ['SW_score','B_ID',\"perc_div\",\"perc_del\",\"perc_ins\", \"query_seq\", \"pos_query_begin\", \"pos_query_end\", \"pos_query_left\",\"strand\", \"matching_repeat\", \"repeat_class_family\", \"pos_in_repeat_begin\", \"pos_in_repeat_end\", \"pos_in_repeat_left\", \"TE_B_ID\",\"star\",\"repeat_class\",\"repeat_family\"]\n"
   ]
  },
  {
   "cell_type": "code",
   "execution_count": 8,
   "metadata": {},
   "outputs": [],
   "source": [
    "ref_intersect = ref\n",
    "ref_intersect = ref_intersect.drop([\"SW_score\",\"perc_del\",\"perc_ins\", \"pos_query_left\",\"repeat_class_family\", \"pos_in_repeat_begin\", \"pos_in_repeat_end\", \"pos_in_repeat_left\", \"star\"], axis = 1 )\n",
    "ref_intersect.insert(1, \"feature\", \"Similarity\")\n",
    "ref_intersect.insert(1, \"source\", \"RepeatMasker\")\n",
    "ref_intersect.insert(1, \"phase\", \".\")\n",
    "\n",
    "ref_intersect =ref_intersect[['query_seq','source','feature','pos_query_begin','pos_query_end', 'perc_div', 'strand','phase', 'B_ID']]\n",
    "ref_intersect.to_csv('/home/tkastylevsky/FASTA_files/repeatmasker/gallus_gallus_proper/gallus_proper_chr1/chr1.fa.out_1.gff', sep = '\\t', header = False, index  = False)\n"
   ]
  },
  {
   "cell_type": "markdown",
   "metadata": {},
   "source": [
    "Pour passer a la suite, il faut faire un détour par bedtools pour récupérer les intersections(ça m'a semblé plus pratique)"
   ]
  },
  {
   "cell_type": "code",
   "execution_count": 10,
   "metadata": {},
   "outputs": [],
   "source": [
    "#results A match_raw combien de fois A match dans B, sans tenir compte du type ni de la longueur des matchs. \n",
    "\n",
    "results = pa.read_csv(\"/home/tkastylevsky/results/results_bedtools/chk_galGal6_chr1_libwholegenome_compared_to_chr1_libchr1.txt\",header = None, sep = '\\s+')\n",
    "results = results.drop([0,1,2,5,6,7,9,10,11,14,15,16], axis = 1)\n",
    "names_col_2 = ['A_start','A_end','A_ID','B_start','B_end','B_ID','intersect']\n",
    "results.columns = names_col_2\n",
    "\n",
    "results['intersect_A'] = results['intersect']/(results['A_end']-results['A_start'])\n",
    "results['intersect_B'] = results['intersect']/(results['B_end']-results['B_start'])\n",
    "\n",
    "\n",
    "\n"
   ]
  },
  {
   "cell_type": "markdown",
   "metadata": {},
   "source": [
    "Deux petits graphes qui résument les pourcentages d'identité entre les matchs. J'ai ai fais un en logscale "
   ]
  },
  {
   "cell_type": "code",
   "execution_count": 12,
   "metadata": {
    "scrolled": true
   },
   "outputs": [
    {
     "data": {
      "image/png": "[encoded data removed]",
      "text/plain": [
       "<Figure size 432x288 with 1 Axes>"
      ]
     },
     "metadata": {
      "needs_background": "light"
     },
     "output_type": "display_data"
    }
   ],
   "source": [
    "plot = results.intersect_A.plot.hist(bins = 100)\n"
   ]
  },
  {
   "cell_type": "code",
   "execution_count": 20,
   "metadata": {
    "scrolled": true
   },
   "outputs": [
    {
     "data": {
      "image/png": "[encoded data removed]",
      "text/plain": [
       "<Figure size 432x288 with 1 Axes>"
      ]
     },
     "metadata": {
      "needs_background": "light"
     },
     "output_type": "display_data"
    }
   ],
   "source": [
    "plot = results.intersect_A.plot.hist(bins = 100)\n",
    "plot = plot.set_yscale('log')\n"
   ]
  },
  {
   "cell_type": "code",
   "execution_count": 14,
   "metadata": {},
   "outputs": [
    {
     "data": {
      "image/png": "[encoded data removed]",
      "text/plain": [
       "<Figure size 432x288 with 1 Axes>"
      ]
     },
     "metadata": {
      "needs_background": "light"
     },
     "output_type": "display_data"
    }
   ],
   "source": [
    "plot = results.intersect_B.plot.hist(bins = 100)\n"
   ]
  },
  {
   "cell_type": "code",
   "execution_count": 15,
   "metadata": {
    "scrolled": false
   },
   "outputs": [
    {
     "data": {
      "image/png": "[encoded data removed]",
      "text/plain": [
       "<Figure size 432x288 with 1 Axes>"
      ]
     },
     "metadata": {
      "needs_background": "light"
     },
     "output_type": "display_data"
    }
   ],
   "source": [
    "plot = results.intersect_B.plot.hist(bins = 100)\n",
    "plot.set_yscale('log')\n"
   ]
  },
  {
   "cell_type": "markdown",
   "metadata": {},
   "source": [
    "On va regarder le pourcentage de hits pour nos données et la ref dans le bedtools intersect. "
   ]
  },
  {
   "cell_type": "code",
   "execution_count": 16,
   "metadata": {},
   "outputs": [],
   "source": [
    "ID_A = pa.DataFrame(list(range(1,len(data)+1)))\n",
    "ID_B = pa.DataFrame(list(range(1,len(ref)+1)))\n",
    "ID_A.columns = ['ID']\n",
    "ID_B.columns = ['ID']\n",
    "\n",
    "A_presence = ID_A[ID_A.ID.isin(results.A_ID)]\n",
    "B_presence = ID_B[ID_B.ID.isin(results.B_ID)]\n",
    "A_absence = ID_A[~ID_A.ID.isin(results.A_ID)]\n",
    "B_absence = ID_B[~ID_B.ID.isin(results.B_ID)]\n"
   ]
  },
  {
   "cell_type": "code",
   "execution_count": 22,
   "metadata": {},
   "outputs": [
    {
     "data": {
      "text/plain": [
       "0              5\n",
       "1              6\n",
       "2              9\n",
       "3             10\n",
       "4             12\n",
       "           ...  \n",
       "163495    163549\n",
       "163496    163550\n",
       "163497    163551\n",
       "163498    163553\n",
       "163499    163553\n",
       "Name: A_ID, Length: 163500, dtype: int64"
      ]
     },
     "execution_count": 22,
     "metadata": {},
     "output_type": "execute_result"
    }
   ],
   "source": []
  },
  {
   "cell_type": "markdown",
   "metadata": {},
   "source": [
    "on va juste regarder rapidement comment ça change lorsque l'on demande a bedtools d'etre plus stringeant sur ses intersections. (on accepte que les hits a 80% reciproques)"
   ]
  },
  {
   "cell_type": "code",
   "execution_count": 17,
   "metadata": {},
   "outputs": [
    {
     "name": "stdout",
     "output_type": "stream",
     "text": [
      "149210 VS 132561\n",
      "147892 VS 132519\n",
      "14349 VS 30998\n",
      "15536 VS 30909\n"
     ]
    }
   ],
   "source": [
    "results_best = pa.read_csv(\"/home/tkastylevsky/results/results_bedtools/chk_galGal6_chr1_libwholegenome_compared_to_chr1_libchr1_80.txt\",header = None, sep = '\\s+')\n",
    "results_best = results_best.drop([0,1,2,5,6,7,9,10,11,14,15,16], axis = 1)\n",
    "results_best.columns = names_col_2\n",
    "\n",
    "A_presence_best = ID_A[ID_A.ID.isin(results_best.A_ID)]\n",
    "B_presence_best = ID_B[ID_B.ID.isin(results_best.B_ID)]\n",
    "A_absence_best = ID_A[~ID_A.ID.isin(results_best.A_ID)]\n",
    "B_absence_best = ID_B[~ID_B.ID.isin(results_best.B_ID)]\n",
    "print(len(A_presence), 'VS', len(A_presence_best))\n",
    "print(len(B_presence), 'VS', len(B_presence_best))\n",
    "print(len(A_absence), 'VS', len(A_absence_best))\n",
    "print(len(B_absence), 'VS', len(B_absence_best))"
   ]
  },
  {
   "cell_type": "code",
   "execution_count": 18,
   "metadata": {},
   "outputs": [
    {
     "name": "stdout",
     "output_type": "stream",
     "text": [
      "0.912270189962032 VS 0.8104781760710202\n",
      "0.9049367305480089 VS 0.810870842205742\n"
     ]
    }
   ],
   "source": [
    "#des petits pourcentages sur les totaux: \n",
    "perc_hit_A = len(A_presence)/(len(A_presence)+len(A_absence))\n",
    "perc_hit_B = len(B_presence)/(len(B_presence)+len(B_absence))\n",
    "\n",
    "perc_hit_A_best = len(A_presence_best)/(len(A_presence_best)+len(A_absence_best))\n",
    "perc_hit_B_best = len(B_presence_best)/(len(B_presence_best)+len(B_absence_best))\n",
    "\n",
    "print(perc_hit_A, 'VS', perc_hit_A_best )\n",
    "print(perc_hit_B, 'VS', perc_hit_B_best )"
   ]
  },
  {
   "cell_type": "markdown",
   "metadata": {},
   "source": [
    "on s'attaque au type matching ! yay ! \n",
    "\n",
    "edit : \n",
    "\n",
    "lundi 27 janvier,  il y a un soucis dans le results_type, qui vient sans doute du merge et de la façon dont il est fait (il est beaucoup trop petit)\n",
    "\n",
    "\n",
    "edit : c'est corrigé. il fallait faire un \"inner\" et pas un \"outer\""
   ]
  },
  {
   "cell_type": "code",
   "execution_count": 19,
   "metadata": {},
   "outputs": [],
   "source": [
    "results_type = results.drop(['intersect'], axis = 1)\n",
    "results_type = pa.merge(results_type, data, on = 'A_ID', how = 'inner')\n",
    "results_type = results_type[['A_ID','B_ID','intersect_A','intersect_B', 'matching_repeat','repeat_class','repeat_family','TE_A_ID']]\n",
    "results_type.columns = ['A_ID','B_ID','intersect_A','intersect_B', 'matching_repeat_A', 'repeat_class_A','repeat_family_A','TE_A_ID']\n",
    "ref_type = ref[['B_ID','matching_repeat', 'repeat_class','repeat_family','TE_B_ID']]\n",
    "ref_type.columns = ['B_ID','matching_repeat_B','repeat_class_B','repeat_family_B','TE_B_ID']\n",
    "\n",
    "\n",
    "results_type = pa.merge(results_type, ref_type, on = 'B_ID', how = 'inner')\n",
    "\n",
    "results_type.to_csv('/home/tkastylevsky/results/bedtools_analysis/chk_galgal6_chr1_libwhole_vs_chr1_libchr1_repeat_fam_intersect.csv',sep = '\\t', index = False)\n",
    "\n"
   ]
  },
  {
   "cell_type": "markdown",
   "metadata": {},
   "source": [
    "Pour la suite, voir le code R bedtools display, pour se faire une idée générale de la qualité de l'annotation (pas bonne). c'est trèèèèèèèèèèèsssssss long d'essayer de le faire sur Python. "
   ]
  },
  {
   "cell_type": "code",
   "execution_count": 39,
   "metadata": {},
   "outputs": [],
   "source": [
    "ans = results_type.groupby('A_ID').apply(lambda grp: grp.nlargest(1,'intersect_A'))\n"
   ]
  },
  {
   "cell_type": "code",
   "execution_count": 44,
   "metadata": {},
   "outputs": [
    {
     "data": {
      "text/plain": [
       "Index(['A_ID', 'B_ID', 'intersect_A', 'intersect_B', 'matching_repeat_A',\n",
       "       'repeat_class_A', 'repeat_family_A', 'TE_A_ID', 'matching_repeat_B',\n",
       "       'repeat_class_B', 'repeat_family_B', 'TE_B_ID'],\n",
       "      dtype='object')"
      ]
     },
     "execution_count": 44,
     "metadata": {},
     "output_type": "execute_result"
    }
   ],
   "source": []
  }
 ],
 "metadata": {
  "kernelspec": {
   "display_name": "Python 3",
   "language": "python",
   "name": "python3"
  },
  "language_info": {
   "codemirror_mode": {
    "name": "ipython",
    "version": 3
   },
   "file_extension": ".py",
   "mimetype": "text/x-python",
   "name": "python",
   "nbconvert_exporter": "python",
   "pygments_lexer": "ipython3",
   "version": "3.7.4"
  }
 },
 "nbformat": 4,
 "nbformat_minor": 2
}
