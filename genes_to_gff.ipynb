{
 "cells": [
  {
   "cell_type": "code",
   "execution_count": 2,
   "metadata": {},
   "outputs": [],
   "source": [
    "import pandas as pa"
   ]
  },
  {
   "cell_type": "code",
   "execution_count": 46,
   "metadata": {},
   "outputs": [],
   "source": [
    "\n",
    "col_names = [\"contig\",\"annot\", \"type\", \"start\", \"end\", \"dot_1\", \"strand\", \"dot_2\", \"gen_id\", \"gene\"]\n",
    "\n",
    "ans = pa.read_csv('/home/tkastylevsky/trash/test_GTF/cleaned.gtf',header = None, skiprows = 5, sep = '\\s+', names = col_names, index_col = False)\n",
    "ans_gene = ans[ans.type == \"gene\"]\n",
    "ans_gene = ans_gene.drop(\"gen_id\", axis = 1)\n",
    "ans_gene.to_csv(\"/home/tkastylevsky/trash/Avian_lib_out/genes_galgal6.gff\", sep = '\\t', header = False, index = False)\n"
   ]
  },
  {
   "cell_type": "code",
   "execution_count": 35,
   "metadata": {},
   "outputs": [],
   "source": [
    "path_annot = \"/home/tkastylevsky/trash/Avian_lib_out/Gallus_gallus.GRCg6a.dna.toplevel.fa.out.whole_libensembl.gff\"\n",
    "ans_TE = pa.read_csv(path_annot,sep = '\\s+',header = None)"
   ]
  },
  {
   "cell_type": "code",
   "execution_count": 36,
   "metadata": {},
   "outputs": [],
   "source": [
    "ans_TE = ans_TE.drop(8, axis = 1)"
   ]
  },
  {
   "cell_type": "code",
   "execution_count": 38,
   "metadata": {},
   "outputs": [],
   "source": [
    "ans_TE.to_csv(\"/home/tkastylevsky/trash/Avian_lib_out/TE_galgal6.gff\", sep = '\\t', header = False, index = False)"
   ]
  }
 ],
 "metadata": {
  "kernelspec": {
   "display_name": "Python 3",
   "language": "python",
   "name": "python3"
  },
  "language_info": {
   "codemirror_mode": {
    "name": "ipython",
    "version": 3
   },
   "file_extension": ".py",
   "mimetype": "text/x-python",
   "name": "python",
   "nbconvert_exporter": "python",
   "pygments_lexer": "ipython3",
   "version": "3.7.4"
  }
 },
 "nbformat": 4,
 "nbformat_minor": 2
}
