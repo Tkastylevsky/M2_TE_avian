{
 "cells": [
  {
   "cell_type": "code",
   "execution_count": 1,
   "metadata": {},
   "outputs": [
    {
     "name": "stdout",
     "output_type": "stream",
     "text": [
      "Collecting pymummer\n",
      "  Using cached pymummer-0.11.0.tar.gz (8.2 kB)\n",
      "\u001b[31m    ERROR: Command errored out with exit status 1:\n",
      "     command: /home/tkastylevsky/programs/Anaconda3/bin/python -c 'import sys, setuptools, tokenize; sys.argv[0] = '\"'\"'/tmp/pip-install-r8a9qroj/pymummer/setup.py'\"'\"'; __file__='\"'\"'/tmp/pip-install-r8a9qroj/pymummer/setup.py'\"'\"';f=getattr(tokenize, '\"'\"'open'\"'\"', open)(__file__);code=f.read().replace('\"'\"'\\r\\n'\"'\"', '\"'\"'\\n'\"'\"');f.close();exec(compile(code, __file__, '\"'\"'exec'\"'\"'))' egg_info --egg-base /tmp/pip-install-r8a9qroj/pymummer/pip-egg-info\n",
      "         cwd: /tmp/pip-install-r8a9qroj/pymummer/\n",
      "    Complete output (6 lines):\n",
      "    Checking MUMmer programs found in path:\n",
      "       NOT FOUND\tnucmer\n",
      "       NOT FOUND\tshow-coords\n",
      "       NOT FOUND\tshow-snps\n",
      "       NOT FOUND\tdelta-filter\n",
      "    Cannot install because some programs from the MUMer package not found.\n",
      "    ----------------------------------------\u001b[0m\n",
      "\u001b[31mERROR: Command errored out with exit status 1: python setup.py egg_info Check the logs for full command output.\u001b[0m\n",
      "Note: you may need to restart the kernel to use updated packages.\n"
     ]
    }
   ],
   "source": [
    "pip install pymummer "
   ]
  }
 ],
 "metadata": {
  "kernelspec": {
   "display_name": "Python 3",
   "language": "python",
   "name": "python3"
  },
  "language_info": {
   "codemirror_mode": {
    "name": "ipython",
    "version": 3
   },
   "file_extension": ".py",
   "mimetype": "text/x-python",
   "name": "python",
   "nbconvert_exporter": "python",
   "pygments_lexer": "ipython3",
   "version": "3.7.4"
  }
 },
 "nbformat": 4,
 "nbformat_minor": 2
}
