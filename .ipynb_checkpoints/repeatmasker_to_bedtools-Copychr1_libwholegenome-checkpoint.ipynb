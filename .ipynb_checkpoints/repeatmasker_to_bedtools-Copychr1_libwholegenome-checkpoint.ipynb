{
 "cells": [
  {
   "cell_type": "code",
   "execution_count": 1,
   "metadata": {},
   "outputs": [],
   "source": [
    "import pandas as pa\n",
    "import numpy as np\n",
    "import itertools\n",
    "import csv\n"
   ]
  },
  {
   "cell_type": "markdown",
   "metadata": {},
   "source": [
    "En tete a lire a chaque fois : les ID ne sont pas uniques, ça vient peut_etre des etoilllllllles je vais voir ce que je peux faire au pire j'en recrée.\n",
    "\n",
    "edit : \n",
    "non, ça vient du fait que les TE sont morcelés, et du coup pour le meme te on garde la meme ID meme si les séquences sont discontinues. du coup je fais quoi je sais pas.\n",
    "\n",
    "edit lundi 27 : \n",
    "j'ai recrée de nouvelle ID, ça devrait suffire pour faire fonctionner tout ça. \n",
    "(ça fonctionne effectivement, mais en l'état l'annotation n'est pas de bonne qualité. "
   ]
  },
  {
   "cell_type": "code",
   "execution_count": 16,
   "metadata": {},
   "outputs": [
    {
     "data": {
      "text/html": [
       "<div>\n",
       "<style scoped>\n",
       "    .dataframe tbody tr th:only-of-type {\n",
       "        vertical-align: middle;\n",
       "    }\n",
       "\n",
       "    .dataframe tbody tr th {\n",
       "        vertical-align: top;\n",
       "    }\n",
       "\n",
       "    .dataframe thead th {\n",
       "        text-align: right;\n",
       "    }\n",
       "</style>\n",
       "<table border=\"1\" class=\"dataframe\">\n",
       "  <thead>\n",
       "    <tr style=\"text-align: right;\">\n",
       "      <th></th>\n",
       "      <th>SW_score</th>\n",
       "      <th>A_ID</th>\n",
       "      <th>perc_div</th>\n",
       "      <th>perc_del</th>\n",
       "      <th>perc_ins</th>\n",
       "      <th>query_seq</th>\n",
       "      <th>pos_query_begin</th>\n",
       "      <th>pos_query_end</th>\n",
       "      <th>pos_query_left</th>\n",
       "      <th>strand</th>\n",
       "      <th>matching_repeat</th>\n",
       "      <th>pos_in_repeat_begin</th>\n",
       "      <th>pos_in_repeat_end</th>\n",
       "      <th>pos_in_repeat_left</th>\n",
       "      <th>TE_A_ID</th>\n",
       "      <th>star</th>\n",
       "      <th>repeat_class</th>\n",
       "      <th>repeat_family</th>\n",
       "    </tr>\n",
       "  </thead>\n",
       "  <tbody>\n",
       "    <tr>\n",
       "      <td>0</td>\n",
       "      <td>770</td>\n",
       "      <td>1</td>\n",
       "      <td>13.1</td>\n",
       "      <td>0.8</td>\n",
       "      <td>9.7</td>\n",
       "      <td>chr1</td>\n",
       "      <td>8</td>\n",
       "      <td>2000</td>\n",
       "      <td>(197606386)</td>\n",
       "      <td>+</td>\n",
       "      <td>(CCCAAT)n</td>\n",
       "      <td>1</td>\n",
       "      <td>1833</td>\n",
       "      <td>(0)</td>\n",
       "      <td>1</td>\n",
       "      <td>NaN</td>\n",
       "      <td>Simple_repeat</td>\n",
       "      <td>None</td>\n",
       "    </tr>\n",
       "    <tr>\n",
       "      <td>1</td>\n",
       "      <td>236</td>\n",
       "      <td>2</td>\n",
       "      <td>21.5</td>\n",
       "      <td>5.2</td>\n",
       "      <td>4.9</td>\n",
       "      <td>chr1</td>\n",
       "      <td>2004</td>\n",
       "      <td>2369</td>\n",
       "      <td>(197606017)</td>\n",
       "      <td>-</td>\n",
       "      <td>rnd-1_family-157</td>\n",
       "      <td>(1136)</td>\n",
       "      <td>256</td>\n",
       "      <td>1</td>\n",
       "      <td>2</td>\n",
       "      <td>NaN</td>\n",
       "      <td>Unknown</td>\n",
       "      <td>None</td>\n",
       "    </tr>\n",
       "    <tr>\n",
       "      <td>2</td>\n",
       "      <td>267</td>\n",
       "      <td>3</td>\n",
       "      <td>22.6</td>\n",
       "      <td>3.1</td>\n",
       "      <td>3.1</td>\n",
       "      <td>chr1</td>\n",
       "      <td>3194</td>\n",
       "      <td>3421</td>\n",
       "      <td>(197604965)</td>\n",
       "      <td>-</td>\n",
       "      <td>rnd-1_family-157</td>\n",
       "      <td>(1150)</td>\n",
       "      <td>242</td>\n",
       "      <td>15</td>\n",
       "      <td>3</td>\n",
       "      <td>NaN</td>\n",
       "      <td>Unknown</td>\n",
       "      <td>None</td>\n",
       "    </tr>\n",
       "    <tr>\n",
       "      <td>3</td>\n",
       "      <td>236</td>\n",
       "      <td>4</td>\n",
       "      <td>20.3</td>\n",
       "      <td>9.8</td>\n",
       "      <td>1.0</td>\n",
       "      <td>chr1</td>\n",
       "      <td>5132</td>\n",
       "      <td>5315</td>\n",
       "      <td>(197603071)</td>\n",
       "      <td>-</td>\n",
       "      <td>rnd-1_family-157</td>\n",
       "      <td>(1136)</td>\n",
       "      <td>256</td>\n",
       "      <td>57</td>\n",
       "      <td>4</td>\n",
       "      <td>NaN</td>\n",
       "      <td>Unknown</td>\n",
       "      <td>None</td>\n",
       "    </tr>\n",
       "    <tr>\n",
       "      <td>4</td>\n",
       "      <td>16</td>\n",
       "      <td>5</td>\n",
       "      <td>0.0</td>\n",
       "      <td>0.0</td>\n",
       "      <td>0.0</td>\n",
       "      <td>chr1</td>\n",
       "      <td>11446</td>\n",
       "      <td>11462</td>\n",
       "      <td>(197596924)</td>\n",
       "      <td>+</td>\n",
       "      <td>(G)n</td>\n",
       "      <td>1</td>\n",
       "      <td>17</td>\n",
       "      <td>(0)</td>\n",
       "      <td>5</td>\n",
       "      <td>NaN</td>\n",
       "      <td>Simple_repeat</td>\n",
       "      <td>None</td>\n",
       "    </tr>\n",
       "    <tr>\n",
       "      <td>...</td>\n",
       "      <td>...</td>\n",
       "      <td>...</td>\n",
       "      <td>...</td>\n",
       "      <td>...</td>\n",
       "      <td>...</td>\n",
       "      <td>...</td>\n",
       "      <td>...</td>\n",
       "      <td>...</td>\n",
       "      <td>...</td>\n",
       "      <td>...</td>\n",
       "      <td>...</td>\n",
       "      <td>...</td>\n",
       "      <td>...</td>\n",
       "      <td>...</td>\n",
       "      <td>...</td>\n",
       "      <td>...</td>\n",
       "      <td>...</td>\n",
       "      <td>...</td>\n",
       "    </tr>\n",
       "    <tr>\n",
       "      <td>163554</td>\n",
       "      <td>759</td>\n",
       "      <td>163555</td>\n",
       "      <td>19.8</td>\n",
       "      <td>4.3</td>\n",
       "      <td>3.9</td>\n",
       "      <td>chr1</td>\n",
       "      <td>197606175</td>\n",
       "      <td>197606432</td>\n",
       "      <td>(1954)</td>\n",
       "      <td>-</td>\n",
       "      <td>rnd-6_family-3463</td>\n",
       "      <td>(605)</td>\n",
       "      <td>1200</td>\n",
       "      <td>942</td>\n",
       "      <td>159443</td>\n",
       "      <td>*</td>\n",
       "      <td>Satellite</td>\n",
       "      <td>None</td>\n",
       "    </tr>\n",
       "    <tr>\n",
       "      <td>163555</td>\n",
       "      <td>1214</td>\n",
       "      <td>163556</td>\n",
       "      <td>8.3</td>\n",
       "      <td>0.0</td>\n",
       "      <td>1.7</td>\n",
       "      <td>chr1</td>\n",
       "      <td>197606421</td>\n",
       "      <td>197606604</td>\n",
       "      <td>(1782)</td>\n",
       "      <td>-</td>\n",
       "      <td>rnd-5_family-570</td>\n",
       "      <td>(7824)</td>\n",
       "      <td>181</td>\n",
       "      <td>1</td>\n",
       "      <td>159444</td>\n",
       "      <td>NaN</td>\n",
       "      <td>Unknown</td>\n",
       "      <td>None</td>\n",
       "    </tr>\n",
       "    <tr>\n",
       "      <td>163556</td>\n",
       "      <td>7200</td>\n",
       "      <td>163557</td>\n",
       "      <td>4.5</td>\n",
       "      <td>2.4</td>\n",
       "      <td>0.1</td>\n",
       "      <td>chr1</td>\n",
       "      <td>197606608</td>\n",
       "      <td>197607552</td>\n",
       "      <td>(834)</td>\n",
       "      <td>+</td>\n",
       "      <td>rnd-1_family-198</td>\n",
       "      <td>1</td>\n",
       "      <td>967</td>\n",
       "      <td>(1950)</td>\n",
       "      <td>159445</td>\n",
       "      <td>NaN</td>\n",
       "      <td>Unknown</td>\n",
       "      <td>None</td>\n",
       "    </tr>\n",
       "    <tr>\n",
       "      <td>163557</td>\n",
       "      <td>2135</td>\n",
       "      <td>163558</td>\n",
       "      <td>3.2</td>\n",
       "      <td>1.4</td>\n",
       "      <td>1.1</td>\n",
       "      <td>chr1</td>\n",
       "      <td>197607586</td>\n",
       "      <td>197607867</td>\n",
       "      <td>(519)</td>\n",
       "      <td>-</td>\n",
       "      <td>rnd-6_family-3462</td>\n",
       "      <td>(1014)</td>\n",
       "      <td>283</td>\n",
       "      <td>1</td>\n",
       "      <td>159446</td>\n",
       "      <td>*</td>\n",
       "      <td>Unknown</td>\n",
       "      <td>None</td>\n",
       "    </tr>\n",
       "    <tr>\n",
       "      <td>163558</td>\n",
       "      <td>3672</td>\n",
       "      <td>163559</td>\n",
       "      <td>7.6</td>\n",
       "      <td>2.1</td>\n",
       "      <td>0.2</td>\n",
       "      <td>chr1</td>\n",
       "      <td>197607867</td>\n",
       "      <td>197608377</td>\n",
       "      <td>(9)</td>\n",
       "      <td>+</td>\n",
       "      <td>rnd-1_family-198</td>\n",
       "      <td>961</td>\n",
       "      <td>1481</td>\n",
       "      <td>(1436)</td>\n",
       "      <td>159445</td>\n",
       "      <td>NaN</td>\n",
       "      <td>Unknown</td>\n",
       "      <td>None</td>\n",
       "    </tr>\n",
       "  </tbody>\n",
       "</table>\n",
       "<p>163559 rows × 18 columns</p>\n",
       "</div>"
      ],
      "text/plain": [
       "        SW_score    A_ID  perc_div  perc_del  perc_ins query_seq  \\\n",
       "0            770       1      13.1       0.8       9.7      chr1   \n",
       "1            236       2      21.5       5.2       4.9      chr1   \n",
       "2            267       3      22.6       3.1       3.1      chr1   \n",
       "3            236       4      20.3       9.8       1.0      chr1   \n",
       "4             16       5       0.0       0.0       0.0      chr1   \n",
       "...          ...     ...       ...       ...       ...       ...   \n",
       "163554       759  163555      19.8       4.3       3.9      chr1   \n",
       "163555      1214  163556       8.3       0.0       1.7      chr1   \n",
       "163556      7200  163557       4.5       2.4       0.1      chr1   \n",
       "163557      2135  163558       3.2       1.4       1.1      chr1   \n",
       "163558      3672  163559       7.6       2.1       0.2      chr1   \n",
       "\n",
       "        pos_query_begin  pos_query_end pos_query_left strand  \\\n",
       "0                     8           2000    (197606386)      +   \n",
       "1                  2004           2369    (197606017)      -   \n",
       "2                  3194           3421    (197604965)      -   \n",
       "3                  5132           5315    (197603071)      -   \n",
       "4                 11446          11462    (197596924)      +   \n",
       "...                 ...            ...            ...    ...   \n",
       "163554        197606175      197606432         (1954)      -   \n",
       "163555        197606421      197606604         (1782)      -   \n",
       "163556        197606608      197607552          (834)      +   \n",
       "163557        197607586      197607867          (519)      -   \n",
       "163558        197607867      197608377            (9)      +   \n",
       "\n",
       "          matching_repeat pos_in_repeat_begin  pos_in_repeat_end  \\\n",
       "0               (CCCAAT)n                   1               1833   \n",
       "1        rnd-1_family-157              (1136)                256   \n",
       "2        rnd-1_family-157              (1150)                242   \n",
       "3        rnd-1_family-157              (1136)                256   \n",
       "4                    (G)n                   1                 17   \n",
       "...                   ...                 ...                ...   \n",
       "163554  rnd-6_family-3463               (605)               1200   \n",
       "163555   rnd-5_family-570              (7824)                181   \n",
       "163556   rnd-1_family-198                   1                967   \n",
       "163557  rnd-6_family-3462              (1014)                283   \n",
       "163558   rnd-1_family-198                 961               1481   \n",
       "\n",
       "       pos_in_repeat_left  TE_A_ID star   repeat_class repeat_family  \n",
       "0                     (0)        1  NaN  Simple_repeat          None  \n",
       "1                       1        2  NaN        Unknown          None  \n",
       "2                      15        3  NaN        Unknown          None  \n",
       "3                      57        4  NaN        Unknown          None  \n",
       "4                     (0)        5  NaN  Simple_repeat          None  \n",
       "...                   ...      ...  ...            ...           ...  \n",
       "163554                942   159443    *      Satellite          None  \n",
       "163555                  1   159444  NaN        Unknown          None  \n",
       "163556             (1950)   159445  NaN        Unknown          None  \n",
       "163557                  1   159446    *        Unknown          None  \n",
       "163558             (1436)   159445  NaN        Unknown          None  \n",
       "\n",
       "[163559 rows x 18 columns]"
      ]
     },
     "execution_count": 16,
     "metadata": {},
     "output_type": "execute_result"
    }
   ],
   "source": [
    "names_col_data = ['SW_score',\"perc_div\",\"perc_del\",\"perc_ins\", \"query_seq\", \"pos_query_begin\", \"pos_query_end\", \"pos_query_left\",\"strand\", \"matching_repeat\", \"repeat_class_family\", \"pos_in_repeat_begin\", \"pos_in_repeat_end\", \"pos_in_repeat_left\", \"TE_A_ID\",\"star\"]\n",
    "data = pa.read_csv(\"/home/tkastylevsky/FASTA_files/repeatmasker/gallus_gallus_proper/gallus_chr1_lib_whole_genome/chr1.fa.out\",header = None, skiprows = 2, sep = '\\s+', names = names_col_data)\n",
    "data['strand'] = data['strand'].replace('C','-')\n",
    "data.insert(1,\"A_ID\",list(range(1,len(data)+1)))\n",
    "\n",
    "data_split = data.repeat_class_family.str.split('/',expand = True)\n",
    "data = data.join(data_split)\n",
    "data.columns = ['SW_score','A_ID',\"perc_div\",\"perc_del\",\"perc_ins\", \"query_seq\", \"pos_query_begin\", \"pos_query_end\", \"pos_query_left\",\"strand\", \"matching_repeat\", \"repeat_class_family\", \"pos_in_repeat_begin\", \"pos_in_repeat_end\", \"pos_in_repeat_left\", \"TE_A_ID\",\"star\",\"repeat_class\",\"repeat_family\"]\n",
    "data = data.drop('repeat_class_family', axis = 1)\n",
    "data"
   ]
  },
  {
   "cell_type": "code",
   "execution_count": 4,
   "metadata": {},
   "outputs": [],
   "source": [
    "data_intersect = data\n",
    "data_intersect = data_intersect.drop([\"SW_score\",\"perc_del\",\"perc_ins\", \"pos_query_left\", \"pos_in_repeat_begin\", \"pos_in_repeat_end\", \"pos_in_repeat_left\", \"star\"], axis = 1 )\n",
    "data_intersect.insert(1, \"feature\", \"Similarity\")\n",
    "data_intersect.insert(1, \"source\", \"RepeatMasker\")\n",
    "data_intersect.insert(1, \"phase\", \".\")\n",
    "\n",
    "data_intersect = data_intersect[['query_seq','source','feature','pos_query_begin','pos_query_end', 'perc_div', 'strand','phase', 'A_ID']]\n",
    "data_intersect.to_csv('/home/tkastylevsky/FASTA_files/repeatmasker/gallus_gallus_proper/gallus_chr1_lib_whole_genome/chr1.fa.out_1.gff', sep = '\\t', header = False, index = False)"
   ]
  },
  {
   "cell_type": "code",
   "execution_count": 5,
   "metadata": {},
   "outputs": [
    {
     "name": "stdout",
     "output_type": "stream",
     "text": [
      "12350\n"
     ]
    }
   ],
   "source": [
    "#nombre de hit qui se superposent à un meilleur hit au sein d'un meme out. \n",
    "print(data.star.count())"
   ]
  },
  {
   "cell_type": "code",
   "execution_count": 6,
   "metadata": {},
   "outputs": [],
   "source": [
    "names_col_ref = ['SW_score',\"perc_div\",\"perc_del\",\"perc_ins\", \"query_seq\", \"pos_query_begin\", \"pos_query_end\", \"pos_query_left\",\"strand\", \"matching_repeat\", \"repeat_class_family\", \"pos_in_repeat_begin\", \"pos_in_repeat_end\", \"pos_in_repeat_left\", \"TE_B_ID\",\"star\"]\n",
    "\n",
    "ref = pa.read_csv(\"/home/tkastylevsky/FASTA_files/repeatmasker/gallus_gallus_proper/galGal6.fa.out\",header = None, skiprows = 2, sep = '\\s+', names = names_col_ref)\n",
    "ref['strand'] = ref['strand'].replace('C','-')\n",
    "ref_chr1 = ref[ref['query_seq']=='chr1']\n",
    "ref = ref_chr1\n",
    "ref.insert(1,\"B_ID\",list(range(1,len(ref)+1)))\n",
    "ref_split = ref.repeat_class_family.str.split('/',expand = True)\n",
    "ref = ref.join(ref_split)\n",
    "ref.columns = ['SW_score','B_ID',\"perc_div\",\"perc_del\",\"perc_ins\", \"query_seq\", \"pos_query_begin\", \"pos_query_end\", \"pos_query_left\",\"strand\", \"matching_repeat\", \"repeat_class_family\", \"pos_in_repeat_begin\", \"pos_in_repeat_end\", \"pos_in_repeat_left\", \"TE_B_ID\",\"star\",\"repeat_class\",\"repeat_family\"]\n"
   ]
  },
  {
   "cell_type": "code",
   "execution_count": 7,
   "metadata": {},
   "outputs": [],
   "source": [
    "ref_intersect = ref\n",
    "ref_intersect = ref_intersect.drop([\"SW_score\",\"perc_del\",\"perc_ins\", \"pos_query_left\",\"repeat_class_family\", \"pos_in_repeat_begin\", \"pos_in_repeat_end\", \"pos_in_repeat_left\", \"star\"], axis = 1 )\n",
    "ref_intersect.insert(1, \"feature\", \"Similarity\")\n",
    "ref_intersect.insert(1, \"source\", \"RepeatMasker\")\n",
    "ref_intersect.insert(1, \"phase\", \".\")\n",
    "\n",
    "ref_intersect =ref_intersect[['query_seq','source','feature','pos_query_begin','pos_query_end', 'perc_div', 'strand','phase', 'B_ID']]\n",
    "ref_intersect.to_csv('/home/tkastylevsky/FASTA_files/repeatmasker/gallus_gallus_proper/galGal6.chr1.fa.gff', sep = '\\t', header = False, index  = False)\n"
   ]
  },
  {
   "cell_type": "markdown",
   "metadata": {},
   "source": [
    "Pour passer a la suite, il faut faire un détour par bedtools pour récupérer les intersections(ça m'a semblé plus pratique)"
   ]
  },
  {
   "cell_type": "code",
   "execution_count": 8,
   "metadata": {},
   "outputs": [],
   "source": [
    "#results A match_raw combien de fois A match dans B, sans tenir compte du type ni de la longueur des matchs. \n",
    "\n",
    "results = pa.read_csv(\"/home/tkastylevsky/results/results_bedtools/chk_galGal6_chr1_libwholegenome_compared_to_ref.txt\",header = None, sep = '\\s+')\n",
    "results = results.drop([0,1,2,5,6,7,9,10,11,14,15,16], axis = 1)\n",
    "names_col_2 = ['A_start','A_end','A_ID','B_start','B_end','B_ID','intersect']\n",
    "results.columns = names_col_2\n",
    "\n",
    "results['intersect_A'] = results['intersect']/(results['A_end']-results['A_start'])\n",
    "results['intersect_B'] = results['intersect']/(results['B_end']-results['B_start'])\n",
    "\n",
    "\n",
    "\n"
   ]
  },
  {
   "cell_type": "markdown",
   "metadata": {},
   "source": [
    "Deux petits graphes qui résument les pourcentages d'identité entre les matchs. J'ai ai fais un en logscale "
   ]
  },
  {
   "cell_type": "code",
   "execution_count": 10,
   "metadata": {
    "scrolled": true
   },
   "outputs": [
    {
     "data": {
      "image/png": "[encoded data removed]",
      "text/plain": [
       "<Figure size 432x288 with 1 Axes>"
      ]
     },
     "metadata": {
      "needs_background": "light"
     },
     "output_type": "display_data"
    }
   ],
   "source": [
    "plot = results.intersect_A.plot.hist(bins = 100)\n"
   ]
  },
  {
   "cell_type": "code",
   "execution_count": 11,
   "metadata": {
    "scrolled": true
   },
   "outputs": [
    {
     "data": {
      "image/png": "[encoded data removed]",
      "text/plain": [
       "<Figure size 432x288 with 1 Axes>"
      ]
     },
     "metadata": {
      "needs_background": "light"
     },
     "output_type": "display_data"
    }
   ],
   "source": [
    "plot = results.intersect_A.plot.hist(bins = 100)\n",
    "plot.set_yscale('log')\n"
   ]
  },
  {
   "cell_type": "code",
   "execution_count": 13,
   "metadata": {},
   "outputs": [
    {
     "data": {
      "image/png": "[encoded data removed]",
      "text/plain": [
       "<Figure size 432x288 with 1 Axes>"
      ]
     },
     "metadata": {
      "needs_background": "light"
     },
     "output_type": "display_data"
    }
   ],
   "source": [
    "plot = results.intersect_B.plot.hist(bins = 100)\n"
   ]
  },
  {
   "cell_type": "code",
   "execution_count": 12,
   "metadata": {
    "scrolled": false
   },
   "outputs": [
    {
     "data": {
      "image/png": "[encoded data removed]",
      "text/plain": [
       "<Figure size 432x288 with 1 Axes>"
      ]
     },
     "metadata": {
      "needs_background": "light"
     },
     "output_type": "display_data"
    }
   ],
   "source": [
    "plot = results.intersect_B.plot.hist(bins = 100)\n",
    "plot.set_yscale('log')\n"
   ]
  },
  {
   "cell_type": "markdown",
   "metadata": {},
   "source": [
    "On va regarder le pourcentage de hits pour nos données et la ref dans le bedtools intersect. "
   ]
  },
  {
   "cell_type": "code",
   "execution_count": 14,
   "metadata": {},
   "outputs": [],
   "source": [
    "ID_A = pa.DataFrame(list(range(1,len(data)+1)))\n",
    "ID_B = pa.DataFrame(list(range(1,len(ref)+1)))\n",
    "#ID_A.A_ID.isin(ID_A)]\n",
    "ID_A.columns = ['ID']\n",
    "ID_B.columns = ['ID']\n",
    "\n",
    "A_presence = ID_A[ID_A.ID.isin(results.A_ID)]\n",
    "B_presence = ID_B[ID_B.ID.isin(results.B_ID)]\n",
    "A_absence = ID_A[~ID_A.ID.isin(results.A_ID)]\n",
    "B_absence = ID_B[~ID_B.ID.isin(results.B_ID)]\n"
   ]
  },
  {
   "cell_type": "markdown",
   "metadata": {},
   "source": [
    "on va juste regarder rapidement comment ça change lorsque l'on demande a bedtools d'etre plus stringeant sur ses intersections. (on accepte que les hits a 80% reciproques)"
   ]
  },
  {
   "cell_type": "code",
   "execution_count": 15,
   "metadata": {},
   "outputs": [
    {
     "name": "stdout",
     "output_type": "stream",
     "text": [
      "143828 VS 126062\n",
      "140935 VS 125954\n",
      "19731 VS 37497\n",
      "9292 VS 24273\n"
     ]
    }
   ],
   "source": [
    "results_best = pa.read_csv(\"/home/tkastylevsky/results/results_bedtools/chk_galGal6_chr1_libwholegenome_compared_to_ref80.txt\",header = None, sep = '\\s+')\n",
    "results_best = results_best.drop([0,1,2,5,6,7,9,10,11,14,15,16], axis = 1)\n",
    "results_best.columns = names_col_2\n",
    "results_best\n",
    "A_presence_best = ID_A[ID_A.ID.isin(results_best.A_ID)]\n",
    "B_presence_best = ID_B[ID_B.ID.isin(results_best.B_ID)]\n",
    "A_absence_best = ID_A[~ID_A.ID.isin(results_best.A_ID)]\n",
    "B_absence_best = ID_B[~ID_B.ID.isin(results_best.B_ID)]\n",
    "print(len(A_presence), 'VS', len(A_presence_best))\n",
    "print(len(B_presence), 'VS', len(B_presence_best))\n",
    "print(len(A_absence), 'VS', len(A_absence_best))\n",
    "print(len(B_absence), 'VS', len(B_absence_best))"
   ]
  },
  {
   "cell_type": "code",
   "execution_count": 17,
   "metadata": {},
   "outputs": [
    {
     "name": "stdout",
     "output_type": "stream",
     "text": [
      "0.8793646329459094 VS 0.7707432791836585\n",
      "0.93814693763438 VS 0.8384245175634207\n"
     ]
    }
   ],
   "source": [
    "#des petits pourcentages sur les totaux: \n",
    "perc_hit_A = len(A_presence)/(len(A_presence)+len(A_absence))\n",
    "perc_hit_B = len(B_presence)/(len(B_presence)+len(B_absence))\n",
    "\n",
    "perc_hit_A_best = len(A_presence_best)/(len(A_presence_best)+len(A_absence_best))\n",
    "perc_hit_B_best = len(B_presence_best)/(len(B_presence_best)+len(B_absence_best))\n",
    "\n",
    "print(perc_hit_A, 'VS', perc_hit_A_best )\n",
    "print(perc_hit_B, 'VS', perc_hit_B_best )"
   ]
  },
  {
   "cell_type": "markdown",
   "metadata": {},
   "source": [
    "on s'attaque au type matching ! yay ! \n",
    "\n",
    "edit : \n",
    "\n",
    "lundi 27 janvier,  il y a un soucis dans le results_type, qui vient sans doute du merge et de la façon dont il est fait (il est beaucoup trop petit)\n",
    "\n",
    "\n",
    "edit : c'est corrigé. il fallait faire un \"inner\" et pas un \"outer\""
   ]
  },
  {
   "cell_type": "code",
   "execution_count": 18,
   "metadata": {},
   "outputs": [],
   "source": [
    "results_type = results.drop(['intersect'], axis = 1)\n",
    "results_type = pa.merge(results_type, data, on = 'A_ID', how = 'inner')\n",
    "results_type = results_type[['A_ID','B_ID','intersect_A','intersect_B', 'matching_repeat','repeat_class','repeat_family','TE_A_ID']]\n",
    "results_type.columns = ['A_ID','B_ID','intersect_A','intersect_B', 'matching_repeat_A', 'repeat_class_A','repeat_family_A','TE_A_ID']\n",
    "ref_type = ref[['B_ID','matching_repeat', 'repeat_class','repeat_family','TE_B_ID']]\n",
    "ref_type.columns = ['B_ID','matching_repeat_B','repeat_class_B','repeat_family_B','TE_B_ID']\n",
    "\n",
    "\n",
    "results_type = pa.merge(results_type, ref_type, on = 'B_ID', how = 'inner')\n",
    "\n",
    "results_type.to_csv('/home/tkastylevsky/results/bedtools_analysis/chk_galgal6_chr1_libwhole_repeat_fam_intersect.csv',sep = '\\t', index = False)\n",
    "\n"
   ]
  },
  {
   "cell_type": "markdown",
   "metadata": {},
   "source": [
    "Pour la suite, voir le code R bedtools display, pour se faire une idée générale de la qualité de l'annotation (pas bonne). c'est trèèèèèèèèèèèsssssss long d'essayer de le faire sur Python. "
   ]
  },
  {
   "cell_type": "code",
   "execution_count": null,
   "metadata": {},
   "outputs": [],
   "source": [
    "ans = results_type.groupby('A_ID').apply(lambda grp: grp.nlargest(1,'intersect_A'))\n"
   ]
  },
  {
   "cell_type": "code",
   "execution_count": 44,
   "metadata": {},
   "outputs": [
    {
     "data": {
      "text/plain": [
       "Index(['A_ID', 'B_ID', 'intersect_A', 'intersect_B', 'matching_repeat_A',\n",
       "       'repeat_class_A', 'repeat_family_A', 'TE_A_ID', 'matching_repeat_B',\n",
       "       'repeat_class_B', 'repeat_family_B', 'TE_B_ID'],\n",
       "      dtype='object')"
      ]
     },
     "execution_count": 44,
     "metadata": {},
     "output_type": "execute_result"
    }
   ],
   "source": []
  }
 ],
 "metadata": {
  "kernelspec": {
   "display_name": "Python 3",
   "language": "python",
   "name": "python3"
  },
  "language_info": {
   "codemirror_mode": {
    "name": "ipython",
    "version": 3
   },
   "file_extension": ".py",
   "mimetype": "text/x-python",
   "name": "python",
   "nbconvert_exporter": "python",
   "pygments_lexer": "ipython3",
   "version": "3.7.4"
  }
 },
 "nbformat": 4,
 "nbformat_minor": 2
}
