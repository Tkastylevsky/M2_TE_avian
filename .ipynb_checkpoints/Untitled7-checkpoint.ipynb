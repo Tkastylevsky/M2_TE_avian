{
 "cells": [
  {
   "cell_type": "code",
   "execution_count": 1,
   "metadata": {},
   "outputs": [],
   "source": [
    "#importation des librairies\n",
    "\n",
    "from ete3 import NCBITaxa\n",
    "import os\n",
    "from ftplib import FTP\n",
    "\n",
    "#récupération des espèces d'oiseaux\n",
    "\n",
    "path = \"/home/tkastylevsky/data/taxonomic_dump\"\n",
    "os.chdir(path)\n",
    "ncbi = NCBITaxa()\n",
    "\n",
    "path_genomes = '/home/tkastylevsky/FASTA_files/genomes'#ouskon les met\n",
    "path_out= '/home/tkastylevsky/results/ensembl_list/'\n",
    "#on prend les espèces et sous especes du clade aves. \n",
    "descendants_subsp = ncbi.get_descendant_taxa('Aves')\n",
    "taxid2names = ncbi.get_taxid_translator(descendants_subsp)\n",
    "aves_subsp = [*taxid2names.values()]\n",
    "aves_subsp = [w.replace(' ', '_') for w in aves_subsp]\n",
    "\n",
    "descendants = ncbi.get_descendant_taxa('Aves',collapse_subspecies=True)\n",
    "taxid2names_2 = ncbi.get_taxid_translator(descendants)\n",
    "aves = [*taxid2names_2.values()]\n",
    "aves = [w.replace(' ', '_') for w in aves]\n",
    "\n",
    "#on groupe espece et sous-espece\n",
    "aves = set(aves_subsp).union(set(aves))\n",
    "\n",
    "\n",
    "#on va dans le ftp d'ensemble et on récupère la liste des especes présentes\n",
    "ftp_ensembl = FTP('ftp.ensembl.org')\n",
    "ftp_ensembl.login()\n",
    "ftp_ensembl.cwd('pub/release-99/fasta/')\n",
    "ensembl_bank = ftp_ensembl.nlst()\n",
    "ensembl_bank = [name.capitalize() for name in ensembl_bank]#faut rajouter une majuscule au début des noms d'espece pour les faire matcher avec la liste des especes d'oiseaux. \n",
    "\n",
    "ensembl_genomes = set(ensembl_bank).intersection(aves)#espèces d'oiseaux présentes sur ensembl\n",
    "\n"
   ]
  },
  {
   "cell_type": "code",
   "execution_count": 4,
   "metadata": {},
   "outputs": [
    {
     "ename": "SyntaxError",
     "evalue": "invalid syntax (<ipython-input-4-4e550b8fc8c7>, line 3)",
     "output_type": "error",
     "traceback": [
      "\u001b[0;36m  File \u001b[0;32m\"<ipython-input-4-4e550b8fc8c7>\"\u001b[0;36m, line \u001b[0;32m3\u001b[0m\n\u001b[0;31m    file_out =\u001b[0m\n\u001b[0m               ^\u001b[0m\n\u001b[0;31mSyntaxError\u001b[0m\u001b[0;31m:\u001b[0m invalid syntax\n"
     ]
    }
   ],
   "source": [
    "file_out = list(ensembl_genomes)\n",
    "\n",
    "with open(path_out + 'ensembl_genomes.txt', 'w') as f:\n",
    "    for item in file_out:\n",
    "        f.write(\"%s\\n\" % item)"
   ]
  }
 ],
 "metadata": {
  "kernelspec": {
   "display_name": "Python 3",
   "language": "python",
   "name": "python3"
  },
  "language_info": {
   "codemirror_mode": {
    "name": "ipython",
    "version": 3
   },
   "file_extension": ".py",
   "mimetype": "text/x-python",
   "name": "python",
   "nbconvert_exporter": "python",
   "pygments_lexer": "ipython3",
   "version": "3.7.4"
  }
 },
 "nbformat": 4,
 "nbformat_minor": 2
}
