{
 "cells": [
  {
   "cell_type": "code",
   "execution_count": 1,
   "metadata": {},
   "outputs": [],
   "source": [
    "from ete3 import NCBITaxa\n",
    "import os\n",
    "from ftplib import FTP\n",
    "path = \"/home/tkastylevsky/data/taxonomic_dump\"\n",
    "os.chdir(path)\n",
    "\n",
    "ncbi = NCBITaxa()\n",
    "#ncbi.update_taxonomy_database()\n",
    "\n",
    "\n"
   ]
  },
  {
   "cell_type": "code",
   "execution_count": 2,
   "metadata": {},
   "outputs": [],
   "source": [
    "descendants_subsp = ncbi.get_descendant_taxa('Aves')\n",
    "taxid2names = ncbi.get_taxid_translator(descendants_subsp)\n",
    "aves_subsp = [*taxid2names.values()]\n",
    "aves_subsp = [w.replace(' ', '_') for w in aves_subsp]\n",
    "\n"
   ]
  },
  {
   "cell_type": "code",
   "execution_count": 3,
   "metadata": {},
   "outputs": [],
   "source": [
    "descendants = ncbi.get_descendant_taxa('Aves',collapse_subspecies=True)\n",
    "taxid2names_2 = ncbi.get_taxid_translator(descendants)\n",
    "aves = [*taxid2names_2.values()]\n",
    "aves = [w.replace(' ', '_') for w in aves]\n"
   ]
  },
  {
   "cell_type": "code",
   "execution_count": 4,
   "metadata": {},
   "outputs": [],
   "source": [
    "aves = set(aves_subsp).union(set(aves))"
   ]
  },
  {
   "cell_type": "code",
   "execution_count": 36,
   "metadata": {},
   "outputs": [
    {
     "name": "stdout",
     "output_type": "stream",
     "text": [
      "/pub/release-99/fasta\n",
      "/pub/release-99/fasta/amphiprion_ocellaris\n",
      "/pub/release-99/fasta\n"
     ]
    }
   ],
   "source": [
    "\n",
    "ftp_ensembl = FTP('ftp.ensembl.org')\n",
    "ftp_ensembl.login()\n",
    "ftp_ensembl.cwd('pub/release-99/fasta/')\n",
    "ensembl_bank = ftp_ensembl.nlst()\n",
    "ensembl_bank = [name.capitalize() for name in ensembl_bank]\n",
    "print(ftp_ensembl.pwd())\n",
    "ftp_ensembl.cwd('amphiprion_ocellaris')\n",
    "print(ftp_ensembl.pwd())\n",
    "ftp_ensembl.cwd('..')\n",
    "print(ftp_ensembl.pwd())\n",
    "\n"
   ]
  },
  {
   "cell_type": "code",
   "execution_count": 6,
   "metadata": {},
   "outputs": [],
   "source": [
    "ftp_ncbi = FTP('ftp.ncbi.nlm.nih.gov')\n",
    "ftp_ncbi.login()\n",
    "ftp_ncbi.cwd('/genomes/')\n",
    "ncbi_bank = ftp_ncbi.nlst()"
   ]
  },
  {
   "cell_type": "code",
   "execution_count": 7,
   "metadata": {},
   "outputs": [],
   "source": [
    "ftp_ncbi_refseq = FTP('ftp.ncbi.nlm.nih.gov')\n",
    "ftp_ncbi_refseq.login()\n",
    "ftp_ncbi_refseq.cwd('genomes/refseq/vertebrate_other/')\n",
    "ncbi_refseq_bank = ftp_ncbi_refseq.nlst()"
   ]
  },
  {
   "cell_type": "code",
   "execution_count": 8,
   "metadata": {},
   "outputs": [],
   "source": [
    "ftp_ncbi_genbank = FTP('ftp.ncbi.nlm.nih.gov')\n",
    "ftp_ncbi_genbank.login()\n",
    "ftp_ncbi_genbank.cwd('genomes/genbank/vertebrate_other/')\n",
    "ncbi_genbank_bank = ftp_ncbi_genbank.nlst()"
   ]
  },
  {
   "cell_type": "code",
   "execution_count": 10,
   "metadata": {},
   "outputs": [],
   "source": [
    "ncbi_minus_all = set(ncbi_bank) - set(ncbi_genbank_bank)- set(ncbi_refseq_bank) - set(ensembl_bank)\n",
    "genbank_minus_ensembl_refseq = set(ncbi_genbank_bank) - set(ensembl_bank)- set(ncbi_refseq_bank)\n",
    "refseq_minus_ensembl = set(ncbi_refseq_bank) - set(ensembl_bank)\n",
    "\n",
    "\n",
    "genbank_genomes = genbank_minus_ensembl_refseq.intersection(aves)\n",
    "refseq_genomes = refseq_minus_ensembl.intersection(aves)\n",
    "ncbi_genomes = ncbi_minus_all.intersection(aves)\n",
    "ensembl_genomes = set(ensembl_bank).intersection(aves)"
   ]
  },
  {
   "cell_type": "code",
   "execution_count": 53,
   "metadata": {},
   "outputs": [
    {
     "name": "stdout",
     "output_type": "stream",
     "text": [
      "/pub/release-99/fasta\n",
      "/pub/release-99/fasta/anas_platyrhynchos_platyrhynchos/dna\n",
      "Anas_platyrhynchos_platyrhynchos.CAU_duck1.0.dna.toplevel.fa.gz\n",
      "/pub/release-99/fasta\n",
      "/pub/release-99/fasta/strigops_habroptila/dna\n",
      "Strigops_habroptila.bStrHab1_v1.p.dna.toplevel.fa.gz\n",
      "/pub/release-99/fasta\n",
      "/pub/release-99/fasta/erythrura_gouldiae/dna\n",
      "Erythrura_gouldiae.GouldianFinch.dna.toplevel.fa.gz\n",
      "/pub/release-99/fasta\n",
      "/pub/release-99/fasta/zonotrichia_albicollis/dna\n",
      "Zonotrichia_albicollis.Zonotrichia_albicollis-1.0.1.dna.toplevel.fa.gz\n",
      "/pub/release-99/fasta\n",
      "/pub/release-99/fasta/parus_major/dna\n",
      "Parus_major.Parus_major1.1.dna.toplevel.fa.gz\n",
      "/pub/release-99/fasta\n",
      "/pub/release-99/fasta/numida_meleagris/dna\n",
      "Numida_meleagris.NumMel1.0.dna.toplevel.fa.gz\n",
      "/pub/release-99/fasta\n",
      "/pub/release-99/fasta/accipiter_nisus/dna\n",
      "Accipiter_nisus.Accipiter_nisus_ver1.0.dna.toplevel.fa.gz\n",
      "/pub/release-99/fasta\n",
      "/pub/release-99/fasta/apteryx_haastii/dna\n",
      "Apteryx_haastii.aptHaa1.dna.toplevel.fa.gz\n",
      "/pub/release-99/fasta\n",
      "/pub/release-99/fasta/ficedula_albicollis/dna\n",
      "Ficedula_albicollis.FicAlb_1.4.dna.toplevel.fa.gz\n",
      "/pub/release-99/fasta\n",
      "/pub/release-99/fasta/pavo_cristatus/dna\n",
      "Pavo_cristatus.AIIM_Pcri_1.0.dna.toplevel.fa.gz\n",
      "/pub/release-99/fasta\n",
      "/pub/release-99/fasta/meleagris_gallopavo/dna\n",
      "Meleagris_gallopavo.Turkey_2.01.dna.toplevel.fa.gz\n",
      "/pub/release-99/fasta\n",
      "/pub/release-99/fasta/calidris_pygmaea/dna\n",
      "Calidris_pygmaea.ASM369795v1.dna.toplevel.fa.gz\n",
      "/pub/release-99/fasta\n",
      "/pub/release-99/fasta/phasianus_colchicus/dna\n",
      "Phasianus_colchicus.ASM414374v1.dna.toplevel.fa.gz\n",
      "/pub/release-99/fasta\n",
      "/pub/release-99/fasta/athene_cunicularia/dna\n",
      "Athene_cunicularia.athCun1.dna.toplevel.fa.gz\n",
      "/pub/release-99/fasta\n",
      "/pub/release-99/fasta/anser_brachyrhynchus/dna\n",
      "Anser_brachyrhynchus.ASM259213v1.dna.toplevel.fa.gz\n",
      "/pub/release-99/fasta\n",
      "/pub/release-99/fasta/apteryx_owenii/dna\n",
      "Apteryx_owenii.aptOwe1.dna.toplevel.fa.gz\n",
      "/pub/release-99/fasta\n",
      "/pub/release-99/fasta/melopsittacus_undulatus/dna\n",
      "Melopsittacus_undulatus.Melopsittacus_undulatus_6.3.dna.toplevel.fa.gz\n",
      "/pub/release-99/fasta\n",
      "/pub/release-99/fasta/aquila_chrysaetos_chrysaetos/dna\n",
      "Aquila_chrysaetos_chrysaetos.bAquChr1.2.dna.toplevel.fa.gz\n",
      "/pub/release-99/fasta\n",
      "/pub/release-99/fasta/apteryx_rowi/dna\n",
      "Apteryx_rowi.aptRow1.dna.toplevel.fa.gz\n",
      "/pub/release-99/fasta\n",
      "/pub/release-99/fasta/struthio_camelus_australis/dna\n",
      "Struthio_camelus_australis.ASM69896v1.dna.toplevel.fa.gz\n",
      "/pub/release-99/fasta\n",
      "/pub/release-99/fasta/nothoprocta_perdicaria/dna\n",
      "Nothoprocta_perdicaria.notPer1.dna.toplevel.fa.gz\n",
      "/pub/release-99/fasta\n",
      "/pub/release-99/fasta/anser_cygnoides/dna\n",
      "Anser_cygnoides.GooseV1.0.dna.toplevel.fa.gz\n",
      "/pub/release-99/fasta\n",
      "/pub/release-99/fasta/manacus_vitellinus/dna\n",
      "Manacus_vitellinus.ASM171598v2.dna.toplevel.fa.gz\n",
      "/pub/release-99/fasta\n",
      "/pub/release-99/fasta/serinus_canaria/dna\n",
      "Serinus_canaria.SCA1.dna.toplevel.fa.gz\n",
      "/pub/release-99/fasta\n",
      "/pub/release-99/fasta/cyanistes_caeruleus/dna\n",
      "Cyanistes_caeruleus.cyaCae2.dna.toplevel.fa.gz\n",
      "/pub/release-99/fasta\n",
      "/pub/release-99/fasta/gallus_gallus/dna\n",
      "Gallus_gallus.GRCg6a.dna.toplevel.fa.gz\n",
      "/pub/release-99/fasta\n",
      "/pub/release-99/fasta/taeniopygia_guttata/dna\n",
      "Taeniopygia_guttata.bTaeGut1_v1.p.dna.toplevel.fa.gz\n",
      "/pub/release-99/fasta\n",
      "/pub/release-99/fasta/lonchura_striata_domestica/dna\n",
      "Lonchura_striata_domestica.LonStrDom1.dna.toplevel.fa.gz\n",
      "/pub/release-99/fasta\n",
      "/pub/release-99/fasta/dromaius_novaehollandiae/dna\n",
      "Dromaius_novaehollandiae.droNov1.dna.toplevel.fa.gz\n",
      "/pub/release-99/fasta\n",
      "/pub/release-99/fasta/calidris_pugnax/dna\n",
      "Calidris_pugnax.ASM143184v1.dna.toplevel.fa.gz\n",
      "/pub/release-99/fasta\n",
      "/pub/release-99/fasta/lepidothrix_coronata/dna\n",
      "Lepidothrix_coronata.Lepidothrix_coronata-1.0.dna.toplevel.fa.gz\n",
      "/pub/release-99/fasta\n",
      "/pub/release-99/fasta/junco_hyemalis/dna\n",
      "Junco_hyemalis.ASM382977v1.dna.toplevel.fa.gz\n",
      "/pub/release-99/fasta\n",
      "/pub/release-99/fasta/amazona_collaria/dna\n",
      "Amazona_collaria.ASM394721v1.dna.toplevel.fa.gz\n",
      "/pub/release-99/fasta\n",
      "/pub/release-99/fasta/coturnix_japonica/dna\n",
      "Coturnix_japonica.Coturnix_japonica_2.0.dna.toplevel.fa.gz\n",
      "/pub/release-99/fasta\n",
      "/pub/release-99/fasta/chrysolophus_pictus/dna\n",
      "Chrysolophus_pictus.Chrysolophus_pictus_GenomeV1.0.dna.toplevel.fa.gz\n"
     ]
    }
   ],
   "source": [
    "ensembl_genomes = [w.lower() for w in ensembl_genomes]\n",
    "os.chdir('/home/tkastylevsky/FASTA_files/genomes')\n",
    "ftp_ensembl = FTP('ftp.ensembl.org')\n",
    "ftp_ensembl.login()\n",
    "ftp_ensembl.cwd('pub/release-99/fasta/')\n",
    "for i in ensembl_genomes:\n",
    "    os.mkdir(i)\n",
    "    os.chdir(i)\n",
    "    with open(i+'_genome.fa.gz', 'wb') as f:\n",
    "    # Define the callback as a closure so it can access the opened \n",
    "    # file in local scope\n",
    "        def callback(data):\n",
    "            f.write(data)\n",
    "        ftp_ensembl.cwd(i+'/dna/')\n",
    "        liste = ftp_ensembl.nlst()\n",
    "        subs = 'dna.toplevel.fa.gz'\n",
    "        res = list(filter(lambda x: subs in x, liste))[0]#on prend juste le premier element de la liste parce que dans ensembl c'est bien fait dans un dossier il y a un seul fichier qui se termine comme ça. \n",
    "        ftp_ensembl.retrbinary('RETR '+res, callback)\n",
    "        ftp_ensembl.cwd('../..')\n",
    "    os.chdir('..')\n"
   ]
  },
  {
   "cell_type": "code",
   "execution_count": null,
   "metadata": {},
   "outputs": [],
   "source": [
    "os.chdir('/home/tkastylevsky/FASTA_files/genomes')\n",
    "ftp_refseq = FTP('ftp.ncbi.nlm.nih.gov')\n",
    "ftp_refseq.login()\n",
    "ftp_refseq.cwd('genomes/refseq/vertebrate_other/')\n",
    "for i in refseq_genomes:\n",
    "    os.mkdir(i)\n",
    "    os.chdir(i)\n",
    "    with open(i+'_genome.fa.gz', 'wb') as f:\n",
    "    # Define the callback as a closure so it can access the opened \n",
    "    # file in local scope\n",
    "        def callback(data):\n",
    "            f.write(data)\n",
    "        ftp_refseq.cwd(i+'/latest_assembly_versions/')\n",
    "        liste = ftp_refseq.nlst()\n",
    "        ftp_refseq.cwd(liste[0])\n",
    "        liste_2 = ftp_refseq.nlst()\n",
    "        subs = 'genomic.fna.gz'\n",
    "        res = list(filter(lambda x: subs in x, liste_2))[1]#ici, on met 1 parce que dans la liste de fichiers, il y a CDS_from_genomics avant dans refseq et c'est bien relou d'ailleur.\n",
    "        ftp_refseq.retrbinary('RETR '+res, callback)\n",
    "    ftp_refseq.cwd('/genomes/refseq/vertebrate_other/')\n",
    "    os.chdir('..')\n"
   ]
  },
  {
   "cell_type": "code",
   "execution_count": 88,
   "metadata": {},
   "outputs": [
    {
     "ename": "BrokenPipeError",
     "evalue": "[Errno 32] Broken pipe",
     "output_type": "error",
     "traceback": [
      "\u001b[0;31m---------------------------------------------------------------------------\u001b[0m",
      "\u001b[0;31mBrokenPipeError\u001b[0m                           Traceback (most recent call last)",
      "\u001b[0;32m<ipython-input-88-bd06375005fe>\u001b[0m in \u001b[0;36m<module>\u001b[0;34m\u001b[0m\n\u001b[1;32m      7\u001b[0m     \u001b[0;32mdef\u001b[0m \u001b[0mcallback\u001b[0m\u001b[0;34m(\u001b[0m\u001b[0mdata\u001b[0m\u001b[0;34m)\u001b[0m\u001b[0;34m:\u001b[0m\u001b[0;34m\u001b[0m\u001b[0;34m\u001b[0m\u001b[0m\n\u001b[1;32m      8\u001b[0m             \u001b[0mf\u001b[0m\u001b[0;34m.\u001b[0m\u001b[0mwrite\u001b[0m\u001b[0;34m(\u001b[0m\u001b[0mdata\u001b[0m\u001b[0;34m)\u001b[0m\u001b[0;34m\u001b[0m\u001b[0;34m\u001b[0m\u001b[0m\n\u001b[0;32m----> 9\u001b[0;31m     \u001b[0mftp_ensembl\u001b[0m\u001b[0;34m.\u001b[0m\u001b[0mretrbinary\u001b[0m\u001b[0;34m(\u001b[0m\u001b[0;34m'RETR '\u001b[0m\u001b[0;34m+\u001b[0m\u001b[0;34m'GCF_000277835.1_GeoFor_1.0_genomic.fna.gz'\u001b[0m\u001b[0;34m,\u001b[0m \u001b[0mcallback\u001b[0m\u001b[0;34m)\u001b[0m\u001b[0;34m\u001b[0m\u001b[0;34m\u001b[0m\u001b[0m\n\u001b[0m\u001b[1;32m     10\u001b[0m \u001b[0;34m\u001b[0m\u001b[0m\n",
      "\u001b[0;32m~/programs/Anaconda3/lib/python3.7/ftplib.py\u001b[0m in \u001b[0;36mretrbinary\u001b[0;34m(self, cmd, callback, blocksize, rest)\u001b[0m\n\u001b[1;32m    439\u001b[0m           \u001b[0mThe\u001b[0m \u001b[0mresponse\u001b[0m \u001b[0mcode\u001b[0m\u001b[0;34m.\u001b[0m\u001b[0;34m\u001b[0m\u001b[0;34m\u001b[0m\u001b[0m\n\u001b[1;32m    440\u001b[0m         \"\"\"\n\u001b[0;32m--> 441\u001b[0;31m         \u001b[0mself\u001b[0m\u001b[0;34m.\u001b[0m\u001b[0mvoidcmd\u001b[0m\u001b[0;34m(\u001b[0m\u001b[0;34m'TYPE I'\u001b[0m\u001b[0;34m)\u001b[0m\u001b[0;34m\u001b[0m\u001b[0;34m\u001b[0m\u001b[0m\n\u001b[0m\u001b[1;32m    442\u001b[0m         \u001b[0;32mwith\u001b[0m \u001b[0mself\u001b[0m\u001b[0;34m.\u001b[0m\u001b[0mtransfercmd\u001b[0m\u001b[0;34m(\u001b[0m\u001b[0mcmd\u001b[0m\u001b[0;34m,\u001b[0m \u001b[0mrest\u001b[0m\u001b[0;34m)\u001b[0m \u001b[0;32mas\u001b[0m \u001b[0mconn\u001b[0m\u001b[0;34m:\u001b[0m\u001b[0;34m\u001b[0m\u001b[0;34m\u001b[0m\u001b[0m\n\u001b[1;32m    443\u001b[0m             \u001b[0;32mwhile\u001b[0m \u001b[0;36m1\u001b[0m\u001b[0;34m:\u001b[0m\u001b[0;34m\u001b[0m\u001b[0;34m\u001b[0m\u001b[0m\n",
      "\u001b[0;32m~/programs/Anaconda3/lib/python3.7/ftplib.py\u001b[0m in \u001b[0;36mvoidcmd\u001b[0;34m(self, cmd)\u001b[0m\n\u001b[1;32m    275\u001b[0m     \u001b[0;32mdef\u001b[0m \u001b[0mvoidcmd\u001b[0m\u001b[0;34m(\u001b[0m\u001b[0mself\u001b[0m\u001b[0;34m,\u001b[0m \u001b[0mcmd\u001b[0m\u001b[0;34m)\u001b[0m\u001b[0;34m:\u001b[0m\u001b[0;34m\u001b[0m\u001b[0;34m\u001b[0m\u001b[0m\n\u001b[1;32m    276\u001b[0m         \u001b[0;34m\"\"\"Send a command and expect a response beginning with '2'.\"\"\"\u001b[0m\u001b[0;34m\u001b[0m\u001b[0;34m\u001b[0m\u001b[0m\n\u001b[0;32m--> 277\u001b[0;31m         \u001b[0mself\u001b[0m\u001b[0;34m.\u001b[0m\u001b[0mputcmd\u001b[0m\u001b[0;34m(\u001b[0m\u001b[0mcmd\u001b[0m\u001b[0;34m)\u001b[0m\u001b[0;34m\u001b[0m\u001b[0;34m\u001b[0m\u001b[0m\n\u001b[0m\u001b[1;32m    278\u001b[0m         \u001b[0;32mreturn\u001b[0m \u001b[0mself\u001b[0m\u001b[0;34m.\u001b[0m\u001b[0mvoidresp\u001b[0m\u001b[0;34m(\u001b[0m\u001b[0;34m)\u001b[0m\u001b[0;34m\u001b[0m\u001b[0;34m\u001b[0m\u001b[0m\n\u001b[1;32m    279\u001b[0m \u001b[0;34m\u001b[0m\u001b[0m\n",
      "\u001b[0;32m~/programs/Anaconda3/lib/python3.7/ftplib.py\u001b[0m in \u001b[0;36mputcmd\u001b[0;34m(self, line)\u001b[0m\n\u001b[1;32m    197\u001b[0m     \u001b[0;32mdef\u001b[0m \u001b[0mputcmd\u001b[0m\u001b[0;34m(\u001b[0m\u001b[0mself\u001b[0m\u001b[0;34m,\u001b[0m \u001b[0mline\u001b[0m\u001b[0;34m)\u001b[0m\u001b[0;34m:\u001b[0m\u001b[0;34m\u001b[0m\u001b[0;34m\u001b[0m\u001b[0m\n\u001b[1;32m    198\u001b[0m         \u001b[0;32mif\u001b[0m \u001b[0mself\u001b[0m\u001b[0;34m.\u001b[0m\u001b[0mdebugging\u001b[0m\u001b[0;34m:\u001b[0m \u001b[0mprint\u001b[0m\u001b[0;34m(\u001b[0m\u001b[0;34m'*cmd*'\u001b[0m\u001b[0;34m,\u001b[0m \u001b[0mself\u001b[0m\u001b[0;34m.\u001b[0m\u001b[0msanitize\u001b[0m\u001b[0;34m(\u001b[0m\u001b[0mline\u001b[0m\u001b[0;34m)\u001b[0m\u001b[0;34m)\u001b[0m\u001b[0;34m\u001b[0m\u001b[0;34m\u001b[0m\u001b[0m\n\u001b[0;32m--> 199\u001b[0;31m         \u001b[0mself\u001b[0m\u001b[0;34m.\u001b[0m\u001b[0mputline\u001b[0m\u001b[0;34m(\u001b[0m\u001b[0mline\u001b[0m\u001b[0;34m)\u001b[0m\u001b[0;34m\u001b[0m\u001b[0;34m\u001b[0m\u001b[0m\n\u001b[0m\u001b[1;32m    200\u001b[0m \u001b[0;34m\u001b[0m\u001b[0m\n\u001b[1;32m    201\u001b[0m     \u001b[0;31m# Internal: return one line from the server, stripping CRLF.\u001b[0m\u001b[0;34m\u001b[0m\u001b[0;34m\u001b[0m\u001b[0;34m\u001b[0m\u001b[0m\n",
      "\u001b[0;32m~/programs/Anaconda3/lib/python3.7/ftplib.py\u001b[0m in \u001b[0;36mputline\u001b[0;34m(self, line)\u001b[0m\n\u001b[1;32m    192\u001b[0m         \u001b[0;32mif\u001b[0m \u001b[0mself\u001b[0m\u001b[0;34m.\u001b[0m\u001b[0mdebugging\u001b[0m \u001b[0;34m>\u001b[0m \u001b[0;36m1\u001b[0m\u001b[0;34m:\u001b[0m\u001b[0;34m\u001b[0m\u001b[0;34m\u001b[0m\u001b[0m\n\u001b[1;32m    193\u001b[0m             \u001b[0mprint\u001b[0m\u001b[0;34m(\u001b[0m\u001b[0;34m'*put*'\u001b[0m\u001b[0;34m,\u001b[0m \u001b[0mself\u001b[0m\u001b[0;34m.\u001b[0m\u001b[0msanitize\u001b[0m\u001b[0;34m(\u001b[0m\u001b[0mline\u001b[0m\u001b[0;34m)\u001b[0m\u001b[0;34m)\u001b[0m\u001b[0;34m\u001b[0m\u001b[0;34m\u001b[0m\u001b[0m\n\u001b[0;32m--> 194\u001b[0;31m         \u001b[0mself\u001b[0m\u001b[0;34m.\u001b[0m\u001b[0msock\u001b[0m\u001b[0;34m.\u001b[0m\u001b[0msendall\u001b[0m\u001b[0;34m(\u001b[0m\u001b[0mline\u001b[0m\u001b[0;34m.\u001b[0m\u001b[0mencode\u001b[0m\u001b[0;34m(\u001b[0m\u001b[0mself\u001b[0m\u001b[0;34m.\u001b[0m\u001b[0mencoding\u001b[0m\u001b[0;34m)\u001b[0m\u001b[0;34m)\u001b[0m\u001b[0;34m\u001b[0m\u001b[0;34m\u001b[0m\u001b[0m\n\u001b[0m\u001b[1;32m    195\u001b[0m \u001b[0;34m\u001b[0m\u001b[0m\n\u001b[1;32m    196\u001b[0m     \u001b[0;31m# Internal: send one command to the server (through putline())\u001b[0m\u001b[0;34m\u001b[0m\u001b[0;34m\u001b[0m\u001b[0;34m\u001b[0m\u001b[0m\n",
      "\u001b[0;31mBrokenPipeError\u001b[0m: [Errno 32] Broken pipe"
     ]
    }
   ],
   "source": []
  }
 ],
 "metadata": {
  "kernelspec": {
   "display_name": "Python 3",
   "language": "python",
   "name": "python3"
  },
  "language_info": {
   "codemirror_mode": {
    "name": "ipython",
    "version": 3
   },
   "file_extension": ".py",
   "mimetype": "text/x-python",
   "name": "python",
   "nbconvert_exporter": "python",
   "pygments_lexer": "ipython3",
   "version": "3.7.4"
  }
 },
 "nbformat": 4,
 "nbformat_minor": 2
}
