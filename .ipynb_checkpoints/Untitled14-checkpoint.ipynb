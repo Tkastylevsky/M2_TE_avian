{
 "cells": [
  {
   "cell_type": "code",
   "execution_count": 29,
   "metadata": {},
   "outputs": [],
   "source": [
    "from Bio import SeqIO\n",
    "import pandas as pa\n",
    "import os\n",
    "import sys\n",
    "import re\n"
   ]
  },
  {
   "cell_type": "code",
   "execution_count": 38,
   "metadata": {},
   "outputs": [],
   "source": [
    "path = '/home/tkastylevsky/FASTA_files/genomes/Pauxi_pauxi/hocco_genome.fa'\n",
    "path_out = \"/home/tkastylevsky/results/results_final/bed_files_fig_4/genomes/\"\n",
    "record_dict = SeqIO.index(path, \"fasta\")\n"
   ]
  },
  {
   "cell_type": "code",
   "execution_count": 39,
   "metadata": {},
   "outputs": [],
   "source": [
    "names = list(record_dict)\n",
    "lengths = []\n",
    "for x in names :\n",
    "     lengths.append(len(record_dict[x]))"
   ]
  },
  {
   "cell_type": "code",
   "execution_count": 40,
   "metadata": {},
   "outputs": [],
   "source": [
    "df = pa.DataFrame([names, lengths])\n",
    "df = df.transpose()"
   ]
  },
  {
   "cell_type": "code",
   "execution_count": 41,
   "metadata": {},
   "outputs": [],
   "source": [
    "name = re.sub(\".*/\", \"\", path)\n",
    "name = re.sub(\"\\\\..*\", \"\", name)\n",
    "name\n",
    "name = \"Pauxi_pauxi\""
   ]
  },
  {
   "cell_type": "code",
   "execution_count": 42,
   "metadata": {},
   "outputs": [],
   "source": [
    "df.to_csv(path_out+name+\"_genome.bed\",sep = \"\\t\",header = False,index = False)"
   ]
  }
 ],
 "metadata": {
  "kernelspec": {
   "display_name": "Python 3",
   "language": "python",
   "name": "python3"
  },
  "language_info": {
   "codemirror_mode": {
    "name": "ipython",
    "version": 3
   },
   "file_extension": ".py",
   "mimetype": "text/x-python",
   "name": "python",
   "nbconvert_exporter": "python",
   "pygments_lexer": "ipython3",
   "version": "3.7.4"
  }
 },
 "nbformat": 4,
 "nbformat_minor": 2
}
