{
 "cells": [
  {
   "cell_type": "code",
   "execution_count": 55,
   "metadata": {},
   "outputs": [],
   "source": [
    "import pandas as pa\n",
    "import numpy as np\n",
    "import itertools\n",
    "import csv\n"
   ]
  },
  {
   "cell_type": "code",
   "execution_count": 56,
   "metadata": {},
   "outputs": [],
   "source": [
    "def out_to_csv(path,symbol,chromosome):\n",
    "    names_col_data = ['SW_score',\"perc_div\",\"perc_del\",\"perc_ins\", \"query_seq\", \"pos_query_begin\", \"pos_query_end\", \"pos_query_left\",\"strand\", \"matching_repeat\", \"repeat_class_family\", \"pos_in_repeat_begin\", \"pos_in_repeat_end\", \"pos_in_repeat_left\", \"TE_\"+symbol+\"_ID\",\"star\"]\n",
    "    data = pa.read_csv(path,header = None, skiprows = 2, sep = '\\s+', names = names_col_data)\n",
    "    if chromosome != 'whole':\n",
    "        data = data[data['query_seq']== chromosome]\n",
    "    data['strand'] = data['strand'].replace('C','-')\n",
    "    ID = symbol+\"_ID\"\n",
    "    data.insert(1,ID,list(range(1,len(data)+1)))\n",
    "    data.columns = ['SW_score',ID,\"perc_div\",\"perc_del\",\"perc_ins\", \"query_seq\", \"pos_query_begin\", \"pos_query_end\", \"pos_query_left\",\"strand\", \"matching_repeat\", \"repeat_class_family\", \"pos_in_repeat_begin\", \"pos_in_repeat_end\", \"pos_in_repeat_left\", \"TE_\"+symbol+\"_ID\",\"star\"]\n",
    "    return data\n",
    "\n",
    "def csv_to_gff(data,symbol):\n",
    "    data_intersect = data\n",
    "    data_intersect = data_intersect.drop([\"SW_score\",\"perc_del\",\"perc_ins\", \"pos_query_left\", \"pos_in_repeat_begin\", \"pos_in_repeat_end\", \"pos_in_repeat_left\", \"star\"], axis = 1 )\n",
    "    data_intersect.insert(1, \"source\", \"RepeatMasker\")\n",
    "    data_intersect.insert(1, \"phase\", \".\")\n",
    "    data_intersect = data_intersect[['query_seq','source','repeat_class_family','pos_query_begin','pos_query_end', 'perc_div', 'strand','phase', symbol+'_ID']]\n",
    "    return data_intersect"
   ]
  },
  {
   "cell_type": "code",
   "execution_count": 57,
   "metadata": {},
   "outputs": [],
   "source": [
    "\n",
    "path_chr1_libchr1 = \"/home/tkastylevsky/FASTA_files/repeatmasker/gallus_gallus/chr1_libchr1/\"\n",
    "path_chr1_libchr1_out = path_chr1_libchr1 +\"chr1.fa.out\"\n",
    "symbol_chr1_libchr1 = \"chr1_libchr1\"\n",
    "data = out_to_csv(path_chr1_libchr1_out,symbol_chr1_libchr1,'chr1')\n",
    "data_intersect = csv_to_gff(data, symbol_chr1_libchr1)"
   ]
  },
  {
   "cell_type": "code",
   "execution_count": 58,
   "metadata": {},
   "outputs": [],
   "source": [
    "data.to_csv(path_chr1_libchr1_out+\".\"+symbol_chr1_libchr1+\".csv\", sep = '\\t', header = True, index = False)\n",
    "data_intersect.to_csv(path_chr1_libchr1_out+\".\"+symbol_chr1_libchr1+\".gff\", sep = '\\t', header = False, index = False)\n"
   ]
  },
  {
   "cell_type": "code",
   "execution_count": 59,
   "metadata": {},
   "outputs": [],
   "source": [
    "path_ref_chr1 = \"/home/tkastylevsky/FASTA_files/repeatmasker/gallus_gallus/reference/\"\n",
    "path_ref_chr1_out = path_ref_chr1 +\"galGal6.fa.out\"\n",
    "symbol_ref_chr1 = \"ref_chr1\"\n",
    "ref = out_to_csv(path_ref_chr1_out,symbol_ref_chr1,'chr1')\n",
    "ref_intersect = csv_to_gff(ref, symbol_ref_chr1)\n"
   ]
  },
  {
   "cell_type": "code",
   "execution_count": 60,
   "metadata": {},
   "outputs": [],
   "source": [
    "ref.to_csv(path_ref_chr1_out+\".\"+symbol_ref_chr1+\".csv\", sep = '\\t', header = True, index = False)\n",
    "ref_intersect.to_csv(path_ref_chr1_out+\".\"+symbol_ref_chr1+\".gff\", sep = '\\t', header = False, index = False)\n",
    "\n"
   ]
  }
 ],
 "metadata": {
  "kernelspec": {
   "display_name": "Python 3",
   "language": "python",
   "name": "python3"
  },
  "language_info": {
   "codemirror_mode": {
    "name": "ipython",
    "version": 3
   },
   "file_extension": ".py",
   "mimetype": "text/x-python",
   "name": "python",
   "nbconvert_exporter": "python",
   "pygments_lexer": "ipython3",
   "version": "3.7.4"
  }
 },
 "nbformat": 4,
 "nbformat_minor": 2
}
