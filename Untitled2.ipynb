{
 "cells": [
  {
   "cell_type": "code",
   "execution_count": 2,
   "metadata": {},
   "outputs": [],
   "source": [
    "import pandas as pa\n",
    "import numpy as np\n",
    "import itertools\n",
    "import csv\n"
   ]
  },
  {
   "cell_type": "code",
   "execution_count": 24,
   "metadata": {},
   "outputs": [],
   "source": [
    "res_bedtools = pa.read_csv(\"/home/tkastylevsky/results/bedtools_analysis/chk_galgal6_chr1_repeat_fam_intersect_besthit_data.csv\")\n",
    "data = pa.read_csv('/home/tkastylevsky/FASTA_files/gallus_gallus_proper/gallus_proper_chr1/chr1.fa.out_1.gff',header = None, sep = '\\t')\n",
    "data.columns = ['query_seq','source','feature','pos_query_begin','pos_query_end', 'perc_div', 'strand','phase', 'A_ID']"
   ]
  },
  {
   "cell_type": "code",
   "execution_count": 29,
   "metadata": {},
   "outputs": [],
   "source": [
    "DNA_data = res_bedtools[(res_bedtools['repeat_class_A'] != res_bedtools['repeat_class_B'])&(res_bedtools['repeat_class_A'] == 'DNA')]\n",
    "DNA_data = DNA_data[['A_ID']]\n",
    "DNA_data = pa.merge(DNA_data, data, on = 'A_ID', how = 'inner')\n",
    "DNA_data = DNA_data[['query_seq','source','feature','pos_query_begin','pos_query_end', 'perc_div', 'strand','phase', 'A_ID']]\n",
    "DNA_data.to_csv(\"/home/tkastylevsky/results/bedtools_analysis/chk_galgal6_chr1_DNATE_intersect_type_unmatch.csv\", sep = '\\t', header = False, index = False)"
   ]
  }
 ],
 "metadata": {
  "kernelspec": {
   "display_name": "Python 3",
   "language": "python",
   "name": "python3"
  },
  "language_info": {
   "codemirror_mode": {
    "name": "ipython",
    "version": 3
   },
   "file_extension": ".py",
   "mimetype": "text/x-python",
   "name": "python",
   "nbconvert_exporter": "python",
   "pygments_lexer": "ipython3",
   "version": "3.7.4"
  }
 },
 "nbformat": 4,
 "nbformat_minor": 2
}
