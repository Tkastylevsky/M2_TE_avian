{
 "cells": [
  {
   "cell_type": "code",
   "execution_count": 60,
   "metadata": {},
   "outputs": [],
   "source": [
    "import pandas as pa\n",
    "import numpy as np\n",
    "import itertools\n",
    "import csv\n"
   ]
  },
  {
   "cell_type": "markdown",
   "metadata": {},
   "source": [
    "En tete a lire a chaque fois : les ID ne sont pas uniques, ça vient peut_etre des etoilllllllles je vais voir ce que je peux faire au pire j'en recrée.\n",
    "edit : \n",
    "non, ça vient du fait que les TE sont morcelés, et du coup pour le meme te on garde la meme ID meme si les séquences sont discontinues. du coup je fais quoi je sais pas."
   ]
  },
  {
   "cell_type": "code",
   "execution_count": 146,
   "metadata": {},
   "outputs": [],
   "source": [
    "names_col_data = ['SW_score',\"perc_div\",\"perc_del\",\"perc_ins\", \"query_seq\", \"pos_query_begin\", \"pos_query_end\", \"pos_query_left\",\"strand\", \"matching_repeat\", \"repeat_class_family\", \"pos_in_repeat_begin\", \"pos_in_repeat_end\", \"pos_in_repeat_left\", \"A_ID\",\"star\"]\n",
    "data = pa.read_csv(\"/home/tkastylevsky/FASTA_files/gallus_gallus_proper/gallus_proper_chr1/chr1.fa.out\",header = None, skiprows = 2, sep = '\\s+', names = names_col_data)\n",
    "data['strand'] = data['strand'].replace('C','-')\n",
    "\n"
   ]
  },
  {
   "cell_type": "code",
   "execution_count": 147,
   "metadata": {},
   "outputs": [],
   "source": [
    "data_intersect = data\n",
    "data_intersect = data_intersect.drop([\"SW_score\",\"perc_del\",\"perc_ins\", \"pos_query_left\",\"repeat_class_family\", \"pos_in_repeat_begin\", \"pos_in_repeat_end\", \"pos_in_repeat_left\", \"star\"], axis = 1 )\n",
    "data_intersect.insert(1, \"feature\", \"Similarity\")\n",
    "data_intersect.insert(1, \"source\", \"RepeatMasker\")\n",
    "data_intersect.insert(1, \"phase\", \".\")\n",
    "\n",
    "data_intersect = data_intersect[['query_seq','source','feature','pos_query_begin','pos_query_end', 'perc_div', 'strand','phase', 'A_ID']]\n",
    "data_intersect.to_csv('/home/tkastylevsky/FASTA_files/gallus_gallus_proper/gallus_proper_chr1/chr1.fa.out_1.gff', sep = '\\t', header = False, index = False)"
   ]
  },
  {
   "cell_type": "code",
   "execution_count": 95,
   "metadata": {},
   "outputs": [
    {
     "name": "stdout",
     "output_type": "stream",
     "text": [
      "13445\n"
     ]
    }
   ],
   "source": [
    "#nombre de hit qui se superposent à un meilleur hit au sein d'un meme out. \n",
    "print(data.star.count())"
   ]
  },
  {
   "cell_type": "code",
   "execution_count": 151,
   "metadata": {},
   "outputs": [],
   "source": [
    "names_col_ref = ['SW_score',\"perc_div\",\"perc_del\",\"perc_ins\", \"query_seq\", \"pos_query_begin\", \"pos_query_end\", \"pos_query_left\",\"strand\", \"matching_repeat\", \"repeat_class_family\", \"pos_in_repeat_begin\", \"pos_in_repeat_end\", \"pos_in_repeat_left\", \"B_ID\",\"star\"]\n",
    "\n",
    "ref = pa.read_csv(\"/home/tkastylevsky/FASTA_files/gallus_gallus_proper/galGal6.fa.out\",header = None, skiprows = 2, sep = '\\s+', names = names_col_ref)\n",
    "ref['strand'] = ref['strand'].replace('C','-')\n",
    "ref_chr1 = ref[ref['query_seq']=='chr1']\n",
    "ref = ref_chr1\n"
   ]
  },
  {
   "cell_type": "code",
   "execution_count": 116,
   "metadata": {},
   "outputs": [],
   "source": [
    "ref_intersect = ref\n",
    "ref_intersect = ref_intersect.drop([\"SW_score\",\"perc_del\",\"perc_ins\", \"pos_query_left\",\"repeat_class_family\", \"pos_in_repeat_begin\", \"pos_in_repeat_end\", \"pos_in_repeat_left\", \"star\"], axis = 1 )\n",
    "ref_intersect.insert(1, \"feature\", \"Similarity\")\n",
    "ref_intersect.insert(1, \"source\", \"RepeatMasker\")\n",
    "ref_intersect.insert(1, \"phase\", \".\")\n",
    "\n",
    "ref_intersect =ref_intersect[['query_seq','source','feature','pos_query_begin','pos_query_end', 'perc_div', 'strand','phase', 'B_ID']]\n",
    "ref_intersect.to_csv('/home/tkastylevsky/FASTA_files/gallus_gallus_proper/galGal6.chr1.fa.gff', sep = '\\t', header = False, index  = False)\n"
   ]
  },
  {
   "cell_type": "markdown",
   "metadata": {},
   "source": [
    "Pour passer a la suite, il faut faire un détour par bedtools pour récupérer les intersections(ça m'a semblé plus pratique)"
   ]
  },
  {
   "cell_type": "code",
   "execution_count": 152,
   "metadata": {},
   "outputs": [
    {
     "name": "stdout",
     "output_type": "stream",
     "text": [
      "number of unique hits for A when A is intersected in B 125347\n",
      "number of unique hits for B when A is intersected in B 119446\n"
     ]
    }
   ],
   "source": [
    "#results A match_raw combien de fois A match dans B, sans tenir compte du type ni de la longueur des matchs. \n",
    "\n",
    "results = pa.read_csv(\"/home/tkastylevsky/results/results_bedtools/chk_galGal6_chr1_sequence.out_compared_to_ref.txt\",header = None, sep = '\\s+')\n",
    "results = results.drop([0,1,2,5,6,7,9,10,11,14,15,16], axis = 1)\n",
    "names_col_2 = ['A_start','A_end','A_ID','B_start','B_end','B_ID','intersect']\n",
    "results.columns = names_col_2\n",
    "\n",
    "results['intersect_A'] = results['intersect']/(results['A_end']-results['A_start'])\n",
    "\n",
    "\n",
    "\n",
    "size_unique_A = results.drop_duplicates(subset = 'A_ID', keep = False)\n",
    "size_unique_B = results.drop_duplicates(subset = 'B_ID', keep = False)\n",
    "\n",
    "print(\"number of unique hits for A when A is intersected in B\",size_unique_A.A_ID.nunique())\n",
    "print(\"number of unique hits for B when A is intersected in B\",size_unique_B.B_ID.nunique())\n"
   ]
  },
  {
   "cell_type": "code",
   "execution_count": 139,
   "metadata": {},
   "outputs": [
    {
     "data": {
      "text/html": [
       "<div>\n",
       "<style scoped>\n",
       "    .dataframe tbody tr th:only-of-type {\n",
       "        vertical-align: middle;\n",
       "    }\n",
       "\n",
       "    .dataframe tbody tr th {\n",
       "        vertical-align: top;\n",
       "    }\n",
       "\n",
       "    .dataframe thead th {\n",
       "        text-align: right;\n",
       "    }\n",
       "</style>\n",
       "<table border=\"1\" class=\"dataframe\">\n",
       "  <thead>\n",
       "    <tr style=\"text-align: right;\">\n",
       "      <th></th>\n",
       "      <th>A_start</th>\n",
       "      <th>A_end</th>\n",
       "      <th>A_ID</th>\n",
       "      <th>B_start</th>\n",
       "      <th>B_end</th>\n",
       "      <th>B_ID</th>\n",
       "      <th>intersect</th>\n",
       "      <th>intersect_A</th>\n",
       "    </tr>\n",
       "  </thead>\n",
       "  <tbody>\n",
       "    <tr>\n",
       "      <td>1</td>\n",
       "      <td>14221</td>\n",
       "      <td>14280</td>\n",
       "      <td>2</td>\n",
       "      <td>14221</td>\n",
       "      <td>14280</td>\n",
       "      <td>9</td>\n",
       "      <td>59</td>\n",
       "      <td>1.000000</td>\n",
       "    </tr>\n",
       "    <tr>\n",
       "      <td>2</td>\n",
       "      <td>19548</td>\n",
       "      <td>19974</td>\n",
       "      <td>5</td>\n",
       "      <td>19548</td>\n",
       "      <td>19969</td>\n",
       "      <td>10</td>\n",
       "      <td>421</td>\n",
       "      <td>0.988263</td>\n",
       "    </tr>\n",
       "    <tr>\n",
       "      <td>3</td>\n",
       "      <td>19548</td>\n",
       "      <td>19974</td>\n",
       "      <td>5</td>\n",
       "      <td>19972</td>\n",
       "      <td>20535</td>\n",
       "      <td>11</td>\n",
       "      <td>2</td>\n",
       "      <td>0.004695</td>\n",
       "    </tr>\n",
       "    <tr>\n",
       "      <td>4</td>\n",
       "      <td>19972</td>\n",
       "      <td>20535</td>\n",
       "      <td>6</td>\n",
       "      <td>19972</td>\n",
       "      <td>20535</td>\n",
       "      <td>11</td>\n",
       "      <td>563</td>\n",
       "      <td>1.000000</td>\n",
       "    </tr>\n",
       "    <tr>\n",
       "      <td>5</td>\n",
       "      <td>20534</td>\n",
       "      <td>20728</td>\n",
       "      <td>7</td>\n",
       "      <td>19972</td>\n",
       "      <td>20535</td>\n",
       "      <td>11</td>\n",
       "      <td>1</td>\n",
       "      <td>0.005155</td>\n",
       "    </tr>\n",
       "    <tr>\n",
       "      <td>6</td>\n",
       "      <td>20753</td>\n",
       "      <td>21017</td>\n",
       "      <td>7</td>\n",
       "      <td>21000</td>\n",
       "      <td>21267</td>\n",
       "      <td>12</td>\n",
       "      <td>17</td>\n",
       "      <td>0.064394</td>\n",
       "    </tr>\n",
       "    <tr>\n",
       "      <td>7</td>\n",
       "      <td>21040</td>\n",
       "      <td>21266</td>\n",
       "      <td>8</td>\n",
       "      <td>21000</td>\n",
       "      <td>21267</td>\n",
       "      <td>12</td>\n",
       "      <td>226</td>\n",
       "      <td>1.000000</td>\n",
       "    </tr>\n",
       "    <tr>\n",
       "      <td>8</td>\n",
       "      <td>21383</td>\n",
       "      <td>21572</td>\n",
       "      <td>9</td>\n",
       "      <td>21391</td>\n",
       "      <td>21572</td>\n",
       "      <td>13</td>\n",
       "      <td>181</td>\n",
       "      <td>0.957672</td>\n",
       "    </tr>\n",
       "    <tr>\n",
       "      <td>9</td>\n",
       "      <td>23091</td>\n",
       "      <td>23117</td>\n",
       "      <td>11</td>\n",
       "      <td>23091</td>\n",
       "      <td>23117</td>\n",
       "      <td>15</td>\n",
       "      <td>26</td>\n",
       "      <td>1.000000</td>\n",
       "    </tr>\n",
       "  </tbody>\n",
       "</table>\n",
       "</div>"
      ],
      "text/plain": [
       "   A_start  A_end  A_ID  B_start  B_end  B_ID  intersect  intersect_A\n",
       "1    14221  14280     2    14221  14280     9         59     1.000000\n",
       "2    19548  19974     5    19548  19969    10        421     0.988263\n",
       "3    19548  19974     5    19972  20535    11          2     0.004695\n",
       "4    19972  20535     6    19972  20535    11        563     1.000000\n",
       "5    20534  20728     7    19972  20535    11          1     0.005155\n",
       "6    20753  21017     7    21000  21267    12         17     0.064394\n",
       "7    21040  21266     8    21000  21267    12        226     1.000000\n",
       "8    21383  21572     9    21391  21572    13        181     0.957672\n",
       "9    23091  23117    11    23091  23117    15         26     1.000000"
      ]
     },
     "execution_count": 139,
     "metadata": {},
     "output_type": "execute_result"
    }
   ],
   "source": []
  },
  {
   "cell_type": "markdown",
   "metadata": {},
   "source": [
    "Deux petits graphes qui résument les pourcentages d'identité entre les matchs. J'ai ai fais un en logscale "
   ]
  },
  {
   "cell_type": "code",
   "execution_count": 62,
   "metadata": {},
   "outputs": [
    {
     "data": {
      "image/png": "[encoded data removed]",
      "text/plain": [
       "<Figure size 432x288 with 1 Axes>"
      ]
     },
     "metadata": {
      "needs_background": "light"
     },
     "output_type": "display_data"
    }
   ],
   "source": [
    "plot = results.intersect_A.plot.hist(bins = 100)\n"
   ]
  },
  {
   "cell_type": "code",
   "execution_count": 63,
   "metadata": {
    "scrolled": true
   },
   "outputs": [
    {
     "data": {
      "image/png": "[encoded data removed]",
      "text/plain": [
       "<Figure size 432x288 with 1 Axes>"
      ]
     },
     "metadata": {
      "needs_background": "light"
     },
     "output_type": "display_data"
    }
   ],
   "source": [
    "plot = results.intersect_A.plot.hist(bins = 100)\n",
    "plot.set_yscale('log')"
   ]
  },
  {
   "cell_type": "markdown",
   "metadata": {},
   "source": [
    "ATTENTION ON NE PEUT PAS FUSIONER JUSTE AVEC LES ID DE BASE, ELLES NE SONT PAS UNIQUES PARCE QUE LES TE SONT MORCELES. IL VA SANS DOUTE FALLOIR REFAIRE DES ID. "
   ]
  },
  {
   "cell_type": "code",
   "execution_count": 133,
   "metadata": {},
   "outputs": [
    {
     "data": {
      "text/html": [
       "<div>\n",
       "<style scoped>\n",
       "    .dataframe tbody tr th:only-of-type {\n",
       "        vertical-align: middle;\n",
       "    }\n",
       "\n",
       "    .dataframe tbody tr th {\n",
       "        vertical-align: top;\n",
       "    }\n",
       "\n",
       "    .dataframe thead th {\n",
       "        text-align: right;\n",
       "    }\n",
       "</style>\n",
       "<table border=\"1\" class=\"dataframe\">\n",
       "  <thead>\n",
       "    <tr style=\"text-align: right;\">\n",
       "      <th></th>\n",
       "      <th>A_ID</th>\n",
       "      <th>B_ID</th>\n",
       "      <th>intersect_A</th>\n",
       "      <th>matching_repeat</th>\n",
       "      <th>repeat_class_family</th>\n",
       "    </tr>\n",
       "  </thead>\n",
       "  <tbody>\n",
       "    <tr>\n",
       "      <td>1</td>\n",
       "      <td>2</td>\n",
       "      <td>9.0</td>\n",
       "      <td>1.000000</td>\n",
       "      <td>(ACAAC)n</td>\n",
       "      <td>Simple_repeat</td>\n",
       "    </tr>\n",
       "    <tr>\n",
       "      <td>2</td>\n",
       "      <td>5</td>\n",
       "      <td>10.0</td>\n",
       "      <td>0.988263</td>\n",
       "      <td>ltr-1_family-5</td>\n",
       "      <td>LTR/Unknown</td>\n",
       "    </tr>\n",
       "    <tr>\n",
       "      <td>3</td>\n",
       "      <td>5</td>\n",
       "      <td>11.0</td>\n",
       "      <td>0.004695</td>\n",
       "      <td>ltr-1_family-5</td>\n",
       "      <td>LTR/Unknown</td>\n",
       "    </tr>\n",
       "    <tr>\n",
       "      <td>4</td>\n",
       "      <td>6</td>\n",
       "      <td>11.0</td>\n",
       "      <td>1.000000</td>\n",
       "      <td>rnd-1_family-109</td>\n",
       "      <td>LINE/CR1</td>\n",
       "    </tr>\n",
       "    <tr>\n",
       "      <td>5</td>\n",
       "      <td>7</td>\n",
       "      <td>11.0</td>\n",
       "      <td>0.005155</td>\n",
       "      <td>ltr-1_family-22</td>\n",
       "      <td>LINE/CR1</td>\n",
       "    </tr>\n",
       "    <tr>\n",
       "      <td>6</td>\n",
       "      <td>7</td>\n",
       "      <td>11.0</td>\n",
       "      <td>0.005155</td>\n",
       "      <td>ltr-1_family-22</td>\n",
       "      <td>LINE/CR1</td>\n",
       "    </tr>\n",
       "    <tr>\n",
       "      <td>7</td>\n",
       "      <td>7</td>\n",
       "      <td>12.0</td>\n",
       "      <td>0.064394</td>\n",
       "      <td>ltr-1_family-22</td>\n",
       "      <td>LINE/CR1</td>\n",
       "    </tr>\n",
       "    <tr>\n",
       "      <td>8</td>\n",
       "      <td>7</td>\n",
       "      <td>12.0</td>\n",
       "      <td>0.064394</td>\n",
       "      <td>ltr-1_family-22</td>\n",
       "      <td>LINE/CR1</td>\n",
       "    </tr>\n",
       "    <tr>\n",
       "      <td>9</td>\n",
       "      <td>8</td>\n",
       "      <td>12.0</td>\n",
       "      <td>1.000000</td>\n",
       "      <td>rnd-5_family-562</td>\n",
       "      <td>LINE/CR1</td>\n",
       "    </tr>\n",
       "  </tbody>\n",
       "</table>\n",
       "</div>"
      ],
      "text/plain": [
       "   A_ID  B_ID  intersect_A   matching_repeat repeat_class_family\n",
       "1     2   9.0     1.000000          (ACAAC)n       Simple_repeat\n",
       "2     5  10.0     0.988263    ltr-1_family-5         LTR/Unknown\n",
       "3     5  11.0     0.004695    ltr-1_family-5         LTR/Unknown\n",
       "4     6  11.0     1.000000  rnd-1_family-109            LINE/CR1\n",
       "5     7  11.0     0.005155   ltr-1_family-22            LINE/CR1\n",
       "6     7  11.0     0.005155   ltr-1_family-22            LINE/CR1\n",
       "7     7  12.0     0.064394   ltr-1_family-22            LINE/CR1\n",
       "8     7  12.0     0.064394   ltr-1_family-22            LINE/CR1\n",
       "9     8  12.0     1.000000  rnd-5_family-562            LINE/CR1"
      ]
     },
     "execution_count": 133,
     "metadata": {},
     "output_type": "execute_result"
    }
   ],
   "source": [
    "#on s'attaque au type matching ! yay ! \n",
    "results_type = results.drop(['intersect'], axis = 1)\n",
    "\n",
    "\n",
    "\n",
    "results_type = pa.merge(results_type, data, on = 'A_ID', how = 'outer')\n",
    "\n",
    "results_type = results_type[['A_ID','B_ID','intersect_A', 'matching_repeat', 'repeat_class_family']]\n",
    "results_type_1 = results_type\n",
    "ref_type = ref[['B_ID','matching_repeat', 'repeat_class_family']]\n",
    "\n",
    "\n",
    "\n",
    "results_type = pa.merge(results_type, ref_type, on = 'B_ID', how = 'outer')\n",
    "results_type.to_csv('/home/tkastylevsky/results/bedtools_analysis/chk_galgal6_chr1_repeat_fam_intersect.csv',sep = '\\t', index = False)\n",
    "results_type_1[1:10]"
   ]
  },
  {
   "cell_type": "code",
   "execution_count": 136,
   "metadata": {},
   "outputs": [
    {
     "data": {
      "text/html": [
       "<div>\n",
       "<style scoped>\n",
       "    .dataframe tbody tr th:only-of-type {\n",
       "        vertical-align: middle;\n",
       "    }\n",
       "\n",
       "    .dataframe tbody tr th {\n",
       "        vertical-align: top;\n",
       "    }\n",
       "\n",
       "    .dataframe thead th {\n",
       "        text-align: right;\n",
       "    }\n",
       "</style>\n",
       "<table border=\"1\" class=\"dataframe\">\n",
       "  <thead>\n",
       "    <tr style=\"text-align: right;\">\n",
       "      <th></th>\n",
       "      <th>A_start</th>\n",
       "      <th>A_end</th>\n",
       "      <th>A_ID</th>\n",
       "      <th>B_start</th>\n",
       "      <th>B_end</th>\n",
       "      <th>B_ID</th>\n",
       "      <th>intersect_A</th>\n",
       "    </tr>\n",
       "  </thead>\n",
       "  <tbody>\n",
       "    <tr>\n",
       "      <td>1</td>\n",
       "      <td>14221</td>\n",
       "      <td>14280</td>\n",
       "      <td>2</td>\n",
       "      <td>14221</td>\n",
       "      <td>14280</td>\n",
       "      <td>9</td>\n",
       "      <td>1.000000</td>\n",
       "    </tr>\n",
       "    <tr>\n",
       "      <td>2</td>\n",
       "      <td>19548</td>\n",
       "      <td>19974</td>\n",
       "      <td>5</td>\n",
       "      <td>19548</td>\n",
       "      <td>19969</td>\n",
       "      <td>10</td>\n",
       "      <td>0.988263</td>\n",
       "    </tr>\n",
       "    <tr>\n",
       "      <td>3</td>\n",
       "      <td>19548</td>\n",
       "      <td>19974</td>\n",
       "      <td>5</td>\n",
       "      <td>19972</td>\n",
       "      <td>20535</td>\n",
       "      <td>11</td>\n",
       "      <td>0.004695</td>\n",
       "    </tr>\n",
       "    <tr>\n",
       "      <td>4</td>\n",
       "      <td>19972</td>\n",
       "      <td>20535</td>\n",
       "      <td>6</td>\n",
       "      <td>19972</td>\n",
       "      <td>20535</td>\n",
       "      <td>11</td>\n",
       "      <td>1.000000</td>\n",
       "    </tr>\n",
       "    <tr>\n",
       "      <td>5</td>\n",
       "      <td>20534</td>\n",
       "      <td>20728</td>\n",
       "      <td>7</td>\n",
       "      <td>19972</td>\n",
       "      <td>20535</td>\n",
       "      <td>11</td>\n",
       "      <td>0.005155</td>\n",
       "    </tr>\n",
       "    <tr>\n",
       "      <td>6</td>\n",
       "      <td>20753</td>\n",
       "      <td>21017</td>\n",
       "      <td>7</td>\n",
       "      <td>21000</td>\n",
       "      <td>21267</td>\n",
       "      <td>12</td>\n",
       "      <td>0.064394</td>\n",
       "    </tr>\n",
       "    <tr>\n",
       "      <td>7</td>\n",
       "      <td>21040</td>\n",
       "      <td>21266</td>\n",
       "      <td>8</td>\n",
       "      <td>21000</td>\n",
       "      <td>21267</td>\n",
       "      <td>12</td>\n",
       "      <td>1.000000</td>\n",
       "    </tr>\n",
       "    <tr>\n",
       "      <td>8</td>\n",
       "      <td>21383</td>\n",
       "      <td>21572</td>\n",
       "      <td>9</td>\n",
       "      <td>21391</td>\n",
       "      <td>21572</td>\n",
       "      <td>13</td>\n",
       "      <td>0.957672</td>\n",
       "    </tr>\n",
       "    <tr>\n",
       "      <td>9</td>\n",
       "      <td>23091</td>\n",
       "      <td>23117</td>\n",
       "      <td>11</td>\n",
       "      <td>23091</td>\n",
       "      <td>23117</td>\n",
       "      <td>15</td>\n",
       "      <td>1.000000</td>\n",
       "    </tr>\n",
       "  </tbody>\n",
       "</table>\n",
       "</div>"
      ],
      "text/plain": [
       "   A_start  A_end  A_ID  B_start  B_end  B_ID  intersect_A\n",
       "1    14221  14280     2    14221  14280     9     1.000000\n",
       "2    19548  19974     5    19548  19969    10     0.988263\n",
       "3    19548  19974     5    19972  20535    11     0.004695\n",
       "4    19972  20535     6    19972  20535    11     1.000000\n",
       "5    20534  20728     7    19972  20535    11     0.005155\n",
       "6    20753  21017     7    21000  21267    12     0.064394\n",
       "7    21040  21266     8    21000  21267    12     1.000000\n",
       "8    21383  21572     9    21391  21572    13     0.957672\n",
       "9    23091  23117    11    23091  23117    15     1.000000"
      ]
     },
     "execution_count": 136,
     "metadata": {},
     "output_type": "execute_result"
    }
   ],
   "source": [
    "results_type = results.drop(['intersect'], axis = 1)\n",
    "results_type[1:10]"
   ]
  },
  {
   "cell_type": "markdown",
   "metadata": {},
   "source": [
    "Par la suite, au vu des deux graphes précédents, on va se concentrer sur les 5% qui s'intersectent le plus. Pour ça, on repasse par Bedtools. \n",
    "edit : on verra ça après. pour le moment je garde la liste complete. "
   ]
  },
  {
   "cell_type": "code",
   "execution_count": 73,
   "metadata": {},
   "outputs": [
    {
     "name": "stdout",
     "output_type": "stream",
     "text": [
      "number of unique hits for A when A is intersected in B 106593\n",
      "number of unique hits for A when A is intersected in B 105507\n"
     ]
    }
   ],
   "source": [
    "results_best = pa.read_csv(\"/home/tkastylevsky/results/results_bedtools/chk_galGal6_chr1_sequence.out_compared_to_ref_best.txt\",header = None, sep = '\\s+')\n",
    "results_best = results_best.drop([0,1,2,5,6,7,9,10,11,14,15,16], axis = 1)\n",
    "results_best.columns = names_col_2\n",
    "print(\"number of unique hits for A when A is intersected in B\",results_best.A_ID.nunique())\n",
    "print(\"number of unique hits for A when A is intersected in B\",results_best.B_ID.nunique())"
   ]
  }
 ],
 "metadata": {
  "kernelspec": {
   "display_name": "Python 3",
   "language": "python",
   "name": "python3"
  },
  "language_info": {
   "codemirror_mode": {
    "name": "ipython",
    "version": 3
   },
   "file_extension": ".py",
   "mimetype": "text/x-python",
   "name": "python",
   "nbconvert_exporter": "python",
   "pygments_lexer": "ipython3",
   "version": "3.7.4"
  }
 },
 "nbformat": 4,
 "nbformat_minor": 2
}
